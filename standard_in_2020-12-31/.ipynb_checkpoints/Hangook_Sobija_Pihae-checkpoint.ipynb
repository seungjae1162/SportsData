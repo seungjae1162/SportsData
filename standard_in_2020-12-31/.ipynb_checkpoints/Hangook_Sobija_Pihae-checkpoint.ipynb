{
 "cells": [
  {
   "cell_type": "code",
   "execution_count": 1,
   "metadata": {},
   "outputs": [],
   "source": [
    "#필요한 라이브러리(패키지) import\n",
    "\n",
    "import pandas as pd\n",
    "import numpy as np\n",
    "import csv\n",
    "\n",
    "# 시각화 패키지\n",
    "import matplotlib\n",
    "matplotlib.use('Agg')\n",
    "import matplotlib.pyplot as plt\n",
    "matplotlib.style.use('ggplot')\n",
    "import seaborn as sns\n",
    "plt.rcParams['font.family'] = 'Malgun Gothic'\n",
    "\n",
    "%matplotlib inline"
   ]
  },
  {
   "cell_type": "markdown",
   "metadata": {},
   "source": [
    "# 연도별 스포츠 관련 소비자 접수 총합 그래프"
   ]
  },
  {
   "cell_type": "code",
   "execution_count": 2,
   "metadata": {},
   "outputs": [],
   "source": [
    "# LOCALDATA의 체육시설 업종(https://www.localdata.go.kr/devcenter/dataDown.do?menuNo=20001) 16개 CSV파일 다운\n",
    "## EXCEL에서 필요없는 칼럼 삭제(37개 -> 14개)\n",
    "## CSV파일 읽음\n",
    "\n",
    "df= pd.read_csv(\"C:/Users/seung/Desktop/2020년도/NanoD/github/SportsData/SportsData/standard_in_2020-12-31/csv/sobija_pihae_all.csv\", encoding=\"cp949\")"
   ]
  },
  {
   "cell_type": "code",
   "execution_count": 3,
   "metadata": {},
   "outputs": [],
   "source": [
    "df= pd.DataFrame(df)"
   ]
  },
  {
   "cell_type": "code",
   "execution_count": 4,
   "metadata": {},
   "outputs": [
    {
     "data": {
      "text/html": [
       "<div>\n",
       "<style scoped>\n",
       "    .dataframe tbody tr th:only-of-type {\n",
       "        vertical-align: middle;\n",
       "    }\n",
       "\n",
       "    .dataframe tbody tr th {\n",
       "        vertical-align: top;\n",
       "    }\n",
       "\n",
       "    .dataframe thead th {\n",
       "        text-align: right;\n",
       "    }\n",
       "</style>\n",
       "<table border=\"1\" class=\"dataframe\">\n",
       "  <thead>\n",
       "    <tr style=\"text-align: right;\">\n",
       "      <th></th>\n",
       "      <th>접수년도</th>\n",
       "      <th>접수월</th>\n",
       "      <th>접수일</th>\n",
       "      <th>성별</th>\n",
       "      <th>연령대</th>\n",
       "      <th>지역</th>\n",
       "      <th>물품소분류</th>\n",
       "      <th>청구이유</th>\n",
       "    </tr>\n",
       "  </thead>\n",
       "  <tbody>\n",
       "    <tr>\n",
       "      <td>0</td>\n",
       "      <td>2016년</td>\n",
       "      <td>01월</td>\n",
       "      <td>2016.01.04</td>\n",
       "      <td>여성</td>\n",
       "      <td>40</td>\n",
       "      <td>서울특별시</td>\n",
       "      <td>헬스장,휘트니스센터</td>\n",
       "      <td>계약해제.해지/위약금</td>\n",
       "    </tr>\n",
       "    <tr>\n",
       "      <td>1</td>\n",
       "      <td>2016년</td>\n",
       "      <td>01월</td>\n",
       "      <td>2016.01.04</td>\n",
       "      <td>남성</td>\n",
       "      <td>60</td>\n",
       "      <td>인천광역시</td>\n",
       "      <td>헬스장,휘트니스센터</td>\n",
       "      <td>계약해제.해지/위약금</td>\n",
       "    </tr>\n",
       "    <tr>\n",
       "      <td>2</td>\n",
       "      <td>2016년</td>\n",
       "      <td>01월</td>\n",
       "      <td>2016.01.04</td>\n",
       "      <td>여성</td>\n",
       "      <td>40</td>\n",
       "      <td>충청남도</td>\n",
       "      <td>헬스장,휘트니스센터</td>\n",
       "      <td>계약불이행(불완전이행)</td>\n",
       "    </tr>\n",
       "    <tr>\n",
       "      <td>3</td>\n",
       "      <td>2016년</td>\n",
       "      <td>01월</td>\n",
       "      <td>2016.01.04</td>\n",
       "      <td>남성</td>\n",
       "      <td>20</td>\n",
       "      <td>인천광역시</td>\n",
       "      <td>헬스장,휘트니스센터</td>\n",
       "      <td>계약해제.해지/위약금</td>\n",
       "    </tr>\n",
       "    <tr>\n",
       "      <td>4</td>\n",
       "      <td>2016년</td>\n",
       "      <td>01월</td>\n",
       "      <td>2016.01.04</td>\n",
       "      <td>여성</td>\n",
       "      <td>20</td>\n",
       "      <td>경기도</td>\n",
       "      <td>헬스장,휘트니스센터</td>\n",
       "      <td>계약해제.해지/위약금</td>\n",
       "    </tr>\n",
       "    <tr>\n",
       "      <td>...</td>\n",
       "      <td>...</td>\n",
       "      <td>...</td>\n",
       "      <td>...</td>\n",
       "      <td>...</td>\n",
       "      <td>...</td>\n",
       "      <td>...</td>\n",
       "      <td>...</td>\n",
       "      <td>...</td>\n",
       "    </tr>\n",
       "    <tr>\n",
       "      <td>10432</td>\n",
       "      <td>2020년</td>\n",
       "      <td>09월</td>\n",
       "      <td>2020.09.29</td>\n",
       "      <td>남성</td>\n",
       "      <td>20</td>\n",
       "      <td>인천광역시</td>\n",
       "      <td>헬스장,휘트니스센터</td>\n",
       "      <td>계약해제.해지/위약금</td>\n",
       "    </tr>\n",
       "    <tr>\n",
       "      <td>10433</td>\n",
       "      <td>2020년</td>\n",
       "      <td>09월</td>\n",
       "      <td>2020.09.29</td>\n",
       "      <td>여성</td>\n",
       "      <td>40</td>\n",
       "      <td>경상남도</td>\n",
       "      <td>헬스장,휘트니스센터</td>\n",
       "      <td>계약해제.해지/위약금</td>\n",
       "    </tr>\n",
       "    <tr>\n",
       "      <td>10434</td>\n",
       "      <td>2020년</td>\n",
       "      <td>09월</td>\n",
       "      <td>2020.09.29</td>\n",
       "      <td>여성</td>\n",
       "      <td>20</td>\n",
       "      <td>인천광역시</td>\n",
       "      <td>헬스장,휘트니스센터</td>\n",
       "      <td>계약해제.해지/위약금</td>\n",
       "    </tr>\n",
       "    <tr>\n",
       "      <td>10435</td>\n",
       "      <td>2020년</td>\n",
       "      <td>09월</td>\n",
       "      <td>2020.09.29</td>\n",
       "      <td>여성</td>\n",
       "      <td>50</td>\n",
       "      <td>대전광역시</td>\n",
       "      <td>헬스장,휘트니스센터</td>\n",
       "      <td>계약해제.해지/위약금</td>\n",
       "    </tr>\n",
       "    <tr>\n",
       "      <td>10436</td>\n",
       "      <td>2020년</td>\n",
       "      <td>09월</td>\n",
       "      <td>2020.09.29</td>\n",
       "      <td>여성</td>\n",
       "      <td>20</td>\n",
       "      <td>경기도</td>\n",
       "      <td>헬스장,휘트니스센터</td>\n",
       "      <td>계약해제.해지/위약금</td>\n",
       "    </tr>\n",
       "  </tbody>\n",
       "</table>\n",
       "<p>10437 rows × 8 columns</p>\n",
       "</div>"
      ],
      "text/plain": [
       "        접수년도  접수월         접수일  성별 연령대     지역       물품소분류          청구이유\n",
       "0      2016년  01월  2016.01.04  여성  40  서울특별시  헬스장,휘트니스센터   계약해제.해지/위약금\n",
       "1      2016년  01월  2016.01.04  남성  60  인천광역시  헬스장,휘트니스센터   계약해제.해지/위약금\n",
       "2      2016년  01월  2016.01.04  여성  40   충청남도  헬스장,휘트니스센터  계약불이행(불완전이행)\n",
       "3      2016년  01월  2016.01.04  남성  20  인천광역시  헬스장,휘트니스센터   계약해제.해지/위약금\n",
       "4      2016년  01월  2016.01.04  여성  20    경기도  헬스장,휘트니스센터   계약해제.해지/위약금\n",
       "...      ...  ...         ...  ..  ..    ...         ...           ...\n",
       "10432  2020년  09월  2020.09.29  남성  20  인천광역시  헬스장,휘트니스센터   계약해제.해지/위약금\n",
       "10433  2020년  09월  2020.09.29  여성  40   경상남도  헬스장,휘트니스센터   계약해제.해지/위약금\n",
       "10434  2020년  09월  2020.09.29  여성  20  인천광역시  헬스장,휘트니스센터   계약해제.해지/위약금\n",
       "10435  2020년  09월  2020.09.29  여성  50  대전광역시  헬스장,휘트니스센터   계약해제.해지/위약금\n",
       "10436  2020년  09월  2020.09.29  여성  20    경기도  헬스장,휘트니스센터   계약해제.해지/위약금\n",
       "\n",
       "[10437 rows x 8 columns]"
      ]
     },
     "execution_count": 4,
     "metadata": {},
     "output_type": "execute_result"
    }
   ],
   "source": [
    "df"
   ]
  },
  {
   "cell_type": "markdown",
   "metadata": {},
   "source": [
    "# 연도별 소비자 접수 총합"
   ]
  },
  {
   "cell_type": "code",
   "execution_count": 5,
   "metadata": {},
   "outputs": [
    {
     "data": {
      "text/html": [
       "<div>\n",
       "<style scoped>\n",
       "    .dataframe tbody tr th:only-of-type {\n",
       "        vertical-align: middle;\n",
       "    }\n",
       "\n",
       "    .dataframe tbody tr th {\n",
       "        vertical-align: top;\n",
       "    }\n",
       "\n",
       "    .dataframe thead th {\n",
       "        text-align: right;\n",
       "    }\n",
       "</style>\n",
       "<table border=\"1\" class=\"dataframe\">\n",
       "  <thead>\n",
       "    <tr style=\"text-align: right;\">\n",
       "      <th></th>\n",
       "      <th>2020년</th>\n",
       "      <th>2019년</th>\n",
       "      <th>2018년</th>\n",
       "      <th>2016년</th>\n",
       "      <th>2017년</th>\n",
       "    </tr>\n",
       "  </thead>\n",
       "  <tbody>\n",
       "    <tr>\n",
       "      <td>접수 총합</td>\n",
       "      <td>2487</td>\n",
       "      <td>2354</td>\n",
       "      <td>2244</td>\n",
       "      <td>1796</td>\n",
       "      <td>1556</td>\n",
       "    </tr>\n",
       "  </tbody>\n",
       "</table>\n",
       "</div>"
      ],
      "text/plain": [
       "       2020년  2019년  2018년  2016년  2017년\n",
       "접수 총합   2487   2354   2244   1796   1556"
      ]
     },
     "execution_count": 5,
     "metadata": {},
     "output_type": "execute_result"
    }
   ],
   "source": [
    "df14 = df['접수년도'].value_counts()\n",
    "df14 = pd.DataFrame(df14)\n",
    "df14.columns = ['접수 총합']\n",
    "df15 = df14.T\n",
    "df15"
   ]
  },
  {
   "cell_type": "code",
   "execution_count": 6,
   "metadata": {
    "scrolled": true
   },
   "outputs": [
    {
     "data": {
      "image/png": "[encoded data removed]",
      "text/plain": [
       "<Figure size 432x288 with 1 Axes>"
      ]
     },
     "metadata": {
      "needs_background": "light"
     },
     "output_type": "display_data"
    }
   ],
   "source": [
    "#년도별 접수 총합 갯수 막대그래프화\n",
    "\n",
    "ax = sns.barplot(data=df15)\n",
    "ax.set_title('연도별 스포츠시설 관련 소비자 접수 총합')\n",
    "plt.grid(False)\n",
    "#저장 코드\n",
    "fig = ax.get_figure()\n",
    "fig.savefig(\"연도별 소비자 접수 신고 총합.png\")\n",
    "\n",
    "plt.show()"
   ]
  },
  {
   "cell_type": "markdown",
   "metadata": {},
   "source": [
    "# 월별 소비자 총합"
   ]
  },
  {
   "cell_type": "code",
   "execution_count": 7,
   "metadata": {},
   "outputs": [
    {
     "data": {
      "text/html": [
       "<div>\n",
       "<style scoped>\n",
       "    .dataframe tbody tr th:only-of-type {\n",
       "        vertical-align: middle;\n",
       "    }\n",
       "\n",
       "    .dataframe tbody tr th {\n",
       "        vertical-align: top;\n",
       "    }\n",
       "\n",
       "    .dataframe thead th {\n",
       "        text-align: right;\n",
       "    }\n",
       "</style>\n",
       "<table border=\"1\" class=\"dataframe\">\n",
       "  <thead>\n",
       "    <tr style=\"text-align: right;\">\n",
       "      <th></th>\n",
       "      <th>07월</th>\n",
       "      <th>03월</th>\n",
       "      <th>05월</th>\n",
       "      <th>06월</th>\n",
       "      <th>09월</th>\n",
       "      <th>04월</th>\n",
       "      <th>01월</th>\n",
       "      <th>08월</th>\n",
       "      <th>02월</th>\n",
       "      <th>11월</th>\n",
       "      <th>10월</th>\n",
       "      <th>12월</th>\n",
       "    </tr>\n",
       "  </thead>\n",
       "  <tbody>\n",
       "    <tr>\n",
       "      <td>접수 총합</td>\n",
       "      <td>1052</td>\n",
       "      <td>1022</td>\n",
       "      <td>1005</td>\n",
       "      <td>986</td>\n",
       "      <td>975</td>\n",
       "      <td>972</td>\n",
       "      <td>910</td>\n",
       "      <td>855</td>\n",
       "      <td>795</td>\n",
       "      <td>673</td>\n",
       "      <td>607</td>\n",
       "      <td>585</td>\n",
       "    </tr>\n",
       "  </tbody>\n",
       "</table>\n",
       "</div>"
      ],
      "text/plain": [
       "        07월   03월   05월  06월  09월  04월  01월  08월  02월  11월  10월  12월\n",
       "접수 총합  1052  1022  1005  986  975  972  910  855  795  673  607  585"
      ]
     },
     "execution_count": 7,
     "metadata": {},
     "output_type": "execute_result"
    }
   ],
   "source": [
    "df24 = df['접수월'].value_counts(ascending=False)\n",
    "df24 = pd.DataFrame(df24)\n",
    "df24.columns = ['접수 총합']\n",
    "df25 = df24.T\n",
    "df25"
   ]
  },
  {
   "cell_type": "code",
   "execution_count": 8,
   "metadata": {},
   "outputs": [
    {
     "data": {
      "image/png": "[encoded data removed]",
      "text/plain": [
       "<Figure size 432x288 with 1 Axes>"
      ]
     },
     "metadata": {
      "needs_background": "light"
     },
     "output_type": "display_data"
    }
   ],
   "source": [
    "#월별 소비자 총합 갯수 막대그래프화\n",
    "\n",
    "bx = sns.barplot(data=df25)\n",
    "bx.set_xlabel('월')\n",
    "bx.set_title('월별 스포츠시설 접수 총합')\n",
    "plt.grid(False)\n",
    "#저장 코드\n",
    "fig = bx.get_figure()\n",
    "fig.savefig(\"월별 소비자 접수 신고 총합.png\")\n",
    "\n",
    "plt.show()"
   ]
  },
  {
   "cell_type": "markdown",
   "metadata": {},
   "source": [
    "## 연도별 지역 소비자 접수 총합"
   ]
  },
  {
   "cell_type": "code",
   "execution_count": 9,
   "metadata": {},
   "outputs": [],
   "source": [
    "#excel에서 년도별로 필터처리하여 csv로 저장\n",
    "\n",
    "sobija2016= pd.read_csv(\"C:/Users/seung/Desktop/2020년도/NanoD/github/SportsData/SportsData/standard_in_2020-12-31/csv/sobija_pihae_2016.csv\", encoding=\"utf-8\")\n",
    "sobija2017= pd.read_csv(\"C:/Users/seung/Desktop/2020년도/NanoD/github/SportsData/SportsData/standard_in_2020-12-31/csv/sobija_pihae_2017.csv\", encoding=\"utf-8\")\n",
    "sobija2018= pd.read_csv(\"C:/Users/seung/Desktop/2020년도/NanoD/github/SportsData/SportsData/standard_in_2020-12-31/csv/sobija_pihae_2018.csv\", encoding=\"utf-8\")\n",
    "sobija2019= pd.read_csv(\"C:/Users/seung/Desktop/2020년도/NanoD/github/SportsData/SportsData/standard_in_2020-12-31/csv/sobija_pihae_2019.csv\", encoding=\"utf-8\")\n",
    "sobija2020= pd.read_csv(\"C:/Users/seung/Desktop/2020년도/NanoD/github/SportsData/SportsData/standard_in_2020-12-31/csv/sobija_pihae_2020.csv\", encoding=\"utf-8\")"
   ]
  },
  {
   "cell_type": "code",
   "execution_count": 10,
   "metadata": {},
   "outputs": [
    {
     "data": {
      "text/html": [
       "<div>\n",
       "<style scoped>\n",
       "    .dataframe tbody tr th:only-of-type {\n",
       "        vertical-align: middle;\n",
       "    }\n",
       "\n",
       "    .dataframe tbody tr th {\n",
       "        vertical-align: top;\n",
       "    }\n",
       "\n",
       "    .dataframe thead th {\n",
       "        text-align: right;\n",
       "    }\n",
       "</style>\n",
       "<table border=\"1\" class=\"dataframe\">\n",
       "  <thead>\n",
       "    <tr style=\"text-align: right;\">\n",
       "      <th></th>\n",
       "      <th>접수년도</th>\n",
       "      <th>접수일</th>\n",
       "      <th>성별</th>\n",
       "      <th>연령대</th>\n",
       "      <th>지역</th>\n",
       "      <th>물품소분류</th>\n",
       "      <th>청구이유</th>\n",
       "    </tr>\n",
       "  </thead>\n",
       "  <tbody>\n",
       "    <tr>\n",
       "      <td>0</td>\n",
       "      <td>2016</td>\n",
       "      <td>2016-01-04</td>\n",
       "      <td>여성</td>\n",
       "      <td>40</td>\n",
       "      <td>서울특별시</td>\n",
       "      <td>헬스장,휘트니스센터</td>\n",
       "      <td>계약해제.해지/위약금</td>\n",
       "    </tr>\n",
       "    <tr>\n",
       "      <td>1</td>\n",
       "      <td>2016</td>\n",
       "      <td>2016-01-04</td>\n",
       "      <td>남성</td>\n",
       "      <td>60</td>\n",
       "      <td>인천광역시</td>\n",
       "      <td>헬스장,휘트니스센터</td>\n",
       "      <td>계약해제.해지/위약금</td>\n",
       "    </tr>\n",
       "    <tr>\n",
       "      <td>2</td>\n",
       "      <td>2016</td>\n",
       "      <td>2016-01-04</td>\n",
       "      <td>여성</td>\n",
       "      <td>40</td>\n",
       "      <td>충청남도</td>\n",
       "      <td>헬스장,휘트니스센터</td>\n",
       "      <td>계약불이행(불완전이행)</td>\n",
       "    </tr>\n",
       "    <tr>\n",
       "      <td>3</td>\n",
       "      <td>2016</td>\n",
       "      <td>2016-01-04</td>\n",
       "      <td>남성</td>\n",
       "      <td>20</td>\n",
       "      <td>인천광역시</td>\n",
       "      <td>헬스장,휘트니스센터</td>\n",
       "      <td>계약해제.해지/위약금</td>\n",
       "    </tr>\n",
       "    <tr>\n",
       "      <td>4</td>\n",
       "      <td>2016</td>\n",
       "      <td>2016-01-04</td>\n",
       "      <td>여성</td>\n",
       "      <td>20</td>\n",
       "      <td>경기도</td>\n",
       "      <td>헬스장,휘트니스센터</td>\n",
       "      <td>계약해제.해지/위약금</td>\n",
       "    </tr>\n",
       "    <tr>\n",
       "      <td>...</td>\n",
       "      <td>...</td>\n",
       "      <td>...</td>\n",
       "      <td>...</td>\n",
       "      <td>...</td>\n",
       "      <td>...</td>\n",
       "      <td>...</td>\n",
       "      <td>...</td>\n",
       "    </tr>\n",
       "    <tr>\n",
       "      <td>1791</td>\n",
       "      <td>2016</td>\n",
       "      <td>2016-12-28 0:00</td>\n",
       "      <td>남성</td>\n",
       "      <td>50</td>\n",
       "      <td>대전광역시</td>\n",
       "      <td>헬스장,휘트니스센터</td>\n",
       "      <td>계약해제.해지/위약금</td>\n",
       "    </tr>\n",
       "    <tr>\n",
       "      <td>1792</td>\n",
       "      <td>2016</td>\n",
       "      <td>2016-12-28 0:00</td>\n",
       "      <td>남성</td>\n",
       "      <td>30</td>\n",
       "      <td>경기도</td>\n",
       "      <td>헬스장,휘트니스센터</td>\n",
       "      <td>계약해제.해지/위약금</td>\n",
       "    </tr>\n",
       "    <tr>\n",
       "      <td>1793</td>\n",
       "      <td>2016</td>\n",
       "      <td>2016-12-28 0:00</td>\n",
       "      <td>여성</td>\n",
       "      <td>30</td>\n",
       "      <td>서울특별시</td>\n",
       "      <td>헬스장,휘트니스센터</td>\n",
       "      <td>계약불이행(불완전이행)</td>\n",
       "    </tr>\n",
       "    <tr>\n",
       "      <td>1794</td>\n",
       "      <td>2016</td>\n",
       "      <td>2016-12-28 0:00</td>\n",
       "      <td>여성</td>\n",
       "      <td>30</td>\n",
       "      <td>부산광역시</td>\n",
       "      <td>스포츠시설이용</td>\n",
       "      <td>계약해제.해지/위약금</td>\n",
       "    </tr>\n",
       "    <tr>\n",
       "      <td>1795</td>\n",
       "      <td>2016</td>\n",
       "      <td>2016-12-28 0:00</td>\n",
       "      <td>여성</td>\n",
       "      <td></td>\n",
       "      <td>서울특별시</td>\n",
       "      <td>헬스장,휘트니스센터</td>\n",
       "      <td>계약해제.해지/위약금</td>\n",
       "    </tr>\n",
       "  </tbody>\n",
       "</table>\n",
       "<p>1796 rows × 7 columns</p>\n",
       "</div>"
      ],
      "text/plain": [
       "      접수년도              접수일  성별 연령대     지역       물품소분류          청구이유\n",
       "0     2016       2016-01-04  여성  40  서울특별시  헬스장,휘트니스센터   계약해제.해지/위약금\n",
       "1     2016       2016-01-04  남성  60  인천광역시  헬스장,휘트니스센터   계약해제.해지/위약금\n",
       "2     2016       2016-01-04  여성  40   충청남도  헬스장,휘트니스센터  계약불이행(불완전이행)\n",
       "3     2016       2016-01-04  남성  20  인천광역시  헬스장,휘트니스센터   계약해제.해지/위약금\n",
       "4     2016       2016-01-04  여성  20    경기도  헬스장,휘트니스센터   계약해제.해지/위약금\n",
       "...    ...              ...  ..  ..    ...         ...           ...\n",
       "1791  2016  2016-12-28 0:00  남성  50  대전광역시  헬스장,휘트니스센터   계약해제.해지/위약금\n",
       "1792  2016  2016-12-28 0:00  남성  30    경기도  헬스장,휘트니스센터   계약해제.해지/위약금\n",
       "1793  2016  2016-12-28 0:00  여성  30  서울특별시  헬스장,휘트니스센터  계약불이행(불완전이행)\n",
       "1794  2016  2016-12-28 0:00  여성  30  부산광역시     스포츠시설이용   계약해제.해지/위약금\n",
       "1795  2016  2016-12-28 0:00  여성      서울특별시  헬스장,휘트니스센터   계약해제.해지/위약금\n",
       "\n",
       "[1796 rows x 7 columns]"
      ]
     },
     "execution_count": 10,
     "metadata": {},
     "output_type": "execute_result"
    }
   ],
   "source": [
    "sobija2016"
   ]
  },
  {
   "cell_type": "code",
   "execution_count": 11,
   "metadata": {},
   "outputs": [
    {
     "data": {
      "image/png": "[encoded data removed]",
      "text/plain": [
       "<Figure size 432x288 with 1 Axes>"
      ]
     },
     "metadata": {
      "needs_background": "light"
     },
     "output_type": "display_data"
    }
   ],
   "source": [
    "SOBIJA2016 = sobija2016['지역'].value_counts(ascending=True).tail(5)\n",
    "\n",
    "SOBIJA2016.plot.barh(title='2016년',align='center',color='green')\n",
    "plt.grid(False)\n",
    "\n",
    "# use format='svg' or 'pdf' for vectorial pictures\n",
    "plt.savefig(('2016년 스포츠 소비자 지역별 총합 수.png'), dpi=300, format='png', bbox_inches='tight') "
   ]
  },
  {
   "cell_type": "code",
   "execution_count": 12,
   "metadata": {},
   "outputs": [
    {
     "data": {
      "image/png": "[encoded data removed]",
      "text/plain": [
       "<Figure size 432x288 with 1 Axes>"
      ]
     },
     "metadata": {
      "needs_background": "light"
     },
     "output_type": "display_data"
    }
   ],
   "source": [
    "SOBIJA2017 = sobija2017['지역'].value_counts(ascending=True).tail(5)\n",
    "\n",
    "SOBIJA2017.plot.barh(title='2017년',align='center',color='black')\n",
    "plt.grid(False)\n",
    "\n",
    "# use format='svg' or 'pdf' for vectorial pictures\n",
    "plt.savefig(('2017년 스포츠 소비자 지역별 총합 수.png'), dpi=300, format='png', bbox_inches='tight') "
   ]
  },
  {
   "cell_type": "code",
   "execution_count": 13,
   "metadata": {},
   "outputs": [
    {
     "data": {
      "image/png": "[encoded data removed]",
      "text/plain": [
       "<Figure size 432x288 with 1 Axes>"
      ]
     },
     "metadata": {
      "needs_background": "light"
     },
     "output_type": "display_data"
    }
   ],
   "source": [
    "SOBIJA2018 = sobija2018['지역'].value_counts(ascending=True).tail(5)\n",
    "\n",
    "SOBIJA2018.plot.barh(title='2018년',align='center',color='red')\n",
    "plt.grid(False)\n",
    "\n",
    "# use format='svg' or 'pdf' for vectorial pictures\n",
    "plt.savefig(('2018년 스포츠 소비자 지역별 총합 수.png'), dpi=300, format='png', bbox_inches='tight') "
   ]
  },
  {
   "cell_type": "code",
   "execution_count": 14,
   "metadata": {},
   "outputs": [
    {
     "data": {
      "image/png": "[encoded data removed]",
      "text/plain": [
       "<Figure size 432x288 with 1 Axes>"
      ]
     },
     "metadata": {
      "needs_background": "light"
     },
     "output_type": "display_data"
    }
   ],
   "source": [
    "SOBIJA2019 = sobija2019['지역'].value_counts(ascending=True).tail(5)\n",
    "\n",
    "SOBIJA2019.plot.barh(title='2019년',align='center',color='blue')\n",
    "plt.grid(False)\n",
    "\n",
    "# use format='svg' or 'pdf' for vectorial pictures\n",
    "plt.savefig(('2019년 스포츠 소비자 지역별 총합 수.png'), dpi=300, format='png', bbox_inches='tight') "
   ]
  },
  {
   "cell_type": "code",
   "execution_count": 15,
   "metadata": {},
   "outputs": [
    {
     "data": {
      "image/png": "[encoded data removed]",
      "text/plain": [
       "<Figure size 432x288 with 1 Axes>"
      ]
     },
     "metadata": {
      "needs_background": "light"
     },
     "output_type": "display_data"
    }
   ],
   "source": [
    "SOBIJA2020 = sobija2020['지역'].value_counts(ascending=True).tail(5)\n",
    "\n",
    "SOBIJA2020.plot.barh(title='2020년',align='center',color='yellow')\n",
    "plt.grid(False)\n",
    "\n",
    "# use format='svg' or 'pdf' for vectorial pictures\n",
    "plt.savefig(('2020년 스포츠 소비자 지역별 총합 수.png'), dpi=300, format='png', bbox_inches='tight') "
   ]
  },
  {
   "cell_type": "markdown",
   "metadata": {},
   "source": [
    "## 연도별 서울특별시, 경기도 소비자 불만 파악"
   ]
  },
  {
   "cell_type": "code",
   "execution_count": 16,
   "metadata": {},
   "outputs": [],
   "source": [
    "# 2016년 폐업 수 1위 경기도, 2위 서울, 3위 경상도\n",
    "# 1위~3위에서 어떤 체육 시설 폐업 갯수가 많은 지 조사 및 그래프화\n",
    "\n",
    "## 2016년 1위 경기도\n",
    "## 당구장업이 망한 갯수가 제일 많고, 체육도장업 및 골프연습장업이 2위, 3위를 함"
   ]
  },
  {
   "cell_type": "code",
   "execution_count": 17,
   "metadata": {},
   "outputs": [
    {
     "data": {
      "image/png": "[encoded data removed]",
      "text/plain": [
       "<Figure size 432x288 with 1 Axes>"
      ]
     },
     "metadata": {
      "needs_background": "light"
     },
     "output_type": "display_data"
    },
    {
     "data": {
      "image/png": "[encoded data removed]",
      "text/plain": [
       "<Figure size 432x288 with 1 Axes>"
      ]
     },
     "metadata": {
      "needs_background": "light"
     },
     "output_type": "display_data"
    }
   ],
   "source": [
    "#2016년도 각 지역별에 따른 조회 및 병합\n",
    "\n",
    "gyeonggi = (sobija2016['지역']=='경기도')\n",
    "seoul = (sobija2016['지역']=='서울특별시')\n",
    "\n",
    "gyeonggi2016 = sobija2016.loc[gyeonggi]\n",
    "seoul2016 = sobija2016.loc[seoul]\n",
    "\n",
    "## 2016년 1위 경기도\n",
    "## 1위 당구장업, 2위 체육도장업, 3위 골프연습장업\n",
    "\n",
    "GG2016 = gyeonggi2016['청구이유'].value_counts(ascending=True).tail(5)\n",
    "SO2016 = seoul2016['청구이유'].value_counts(ascending=True).tail(5)\n",
    "\n",
    "G2016G = pd.DataFrame(GG2016)\n",
    "S2016O = pd.DataFrame(SO2016)\n",
    "\n",
    "G2016G.columns=['경기도']\n",
    "S2016O.columns=['서울시']\n",
    "\n",
    "G2016G.plot.barh(title='경기도',color='black')\n",
    "S2016O.plot.barh(title='서울시',color='red')\n",
    "\n",
    "\n",
    "# use format='svg' or 'pdf' for vectorial pictures\n",
    "plt.savefig(('2016년 각 지역 별 체육시설 폐업 수.png'), dpi=300, format='png', bbox_inches='tight') \n",
    "\n",
    "#### 3개 나눠진 그래프 한 개로 통합해야됨####"
   ]
  }
 ],
 "metadata": {
  "kernelspec": {
   "display_name": "Python 3",
   "language": "python",
   "name": "python3"
  },
  "language_info": {
   "codemirror_mode": {
    "name": "ipython",
    "version": 3
   },
   "file_extension": ".py",
   "mimetype": "text/x-python",
   "name": "python",
   "nbconvert_exporter": "python",
   "pygments_lexer": "ipython3",
   "version": "3.7.4"
  }
 },
 "nbformat": 4,
 "nbformat_minor": 2
}
