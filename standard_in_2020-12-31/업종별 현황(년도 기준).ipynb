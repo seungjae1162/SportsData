{
 "cells": [
  {
   "cell_type": "code",
   "execution_count": 1,
   "metadata": {},
   "outputs": [],
   "source": [
    "#필요한 라이브러리(패키지) import\n",
    "\n",
    "import pandas as pd\n",
    "import numpy as np\n",
    "import csv\n",
    "\n",
    "# 시각화 패키지\n",
    "import matplotlib\n",
    "matplotlib.use('Agg')\n",
    "import matplotlib.pyplot as plt\n",
    "matplotlib.style.use('ggplot')\n",
    "import seaborn as sns\n",
    "plt.rcParams['font.family'] = 'Malgun Gothic'\n",
    "\n",
    "%matplotlib inline"
   ]
  },
  {
   "cell_type": "markdown",
   "metadata": {},
   "source": [
    "# 연도별 정상 총 수"
   ]
  },
  {
   "cell_type": "code",
   "execution_count": 2,
   "metadata": {},
   "outputs": [],
   "source": [
    "df111= pd.read_csv(\"C:/Users/seung/Desktop/2020년도/NanoD/github/SportsData/SportsData/standard_in_2020-12-31/csv/opened_all_2020_12_31.csv\", encoding=\"cp949\")"
   ]
  },
  {
   "cell_type": "code",
   "execution_count": 3,
   "metadata": {},
   "outputs": [
    {
     "data": {
      "text/html": [
       "<div>\n",
       "<style scoped>\n",
       "    .dataframe tbody tr th:only-of-type {\n",
       "        vertical-align: middle;\n",
       "    }\n",
       "\n",
       "    .dataframe tbody tr th {\n",
       "        vertical-align: top;\n",
       "    }\n",
       "\n",
       "    .dataframe thead th {\n",
       "        text-align: right;\n",
       "    }\n",
       "</style>\n",
       "<table border=\"1\" class=\"dataframe\">\n",
       "  <thead>\n",
       "    <tr style=\"text-align: right;\">\n",
       "      <th></th>\n",
       "      <th>개방서비스명</th>\n",
       "      <th>인허가년도</th>\n",
       "      <th>인허가일자</th>\n",
       "      <th>영업상태명</th>\n",
       "      <th>폐업년도</th>\n",
       "      <th>폐업일자</th>\n",
       "      <th>위치</th>\n",
       "      <th>도로명전체주소</th>\n",
       "      <th>사업장명</th>\n",
       "    </tr>\n",
       "  </thead>\n",
       "  <tbody>\n",
       "    <tr>\n",
       "      <td>0</td>\n",
       "      <td>골프장</td>\n",
       "      <td>1964</td>\n",
       "      <td>19640928</td>\n",
       "      <td>영업/정상</td>\n",
       "      <td>NaN</td>\n",
       "      <td>NaN</td>\n",
       "      <td>경기</td>\n",
       "      <td>경기도 고양시 덕양구 고양대로1643번길 164  (원당동)</td>\n",
       "      <td>한양컨트리클럽</td>\n",
       "    </tr>\n",
       "    <tr>\n",
       "      <td>1</td>\n",
       "      <td>당구장업</td>\n",
       "      <td>1968</td>\n",
       "      <td>19680108</td>\n",
       "      <td>영업/정상</td>\n",
       "      <td>NaN</td>\n",
       "      <td>NaN</td>\n",
       "      <td>NaN</td>\n",
       "      <td>NaN</td>\n",
       "      <td>그린당구장</td>\n",
       "    </tr>\n",
       "    <tr>\n",
       "      <td>2</td>\n",
       "      <td>당구장업</td>\n",
       "      <td>1968</td>\n",
       "      <td>19680920</td>\n",
       "      <td>영업/정상</td>\n",
       "      <td>NaN</td>\n",
       "      <td>NaN</td>\n",
       "      <td>NaN</td>\n",
       "      <td>NaN</td>\n",
       "      <td>신성</td>\n",
       "    </tr>\n",
       "    <tr>\n",
       "      <td>3</td>\n",
       "      <td>골프장</td>\n",
       "      <td>1970</td>\n",
       "      <td>19701013</td>\n",
       "      <td>영업/정상</td>\n",
       "      <td>NaN</td>\n",
       "      <td>NaN</td>\n",
       "      <td>경기</td>\n",
       "      <td>경기도 용인시 처인구 남사면 전나무골길2번길 94</td>\n",
       "      <td>한원컨트리클럽</td>\n",
       "    </tr>\n",
       "    <tr>\n",
       "      <td>4</td>\n",
       "      <td>당구장업</td>\n",
       "      <td>1970</td>\n",
       "      <td>19701112</td>\n",
       "      <td>영업/정상</td>\n",
       "      <td>NaN</td>\n",
       "      <td>NaN</td>\n",
       "      <td>NaN</td>\n",
       "      <td>NaN</td>\n",
       "      <td>뉴장원당구장</td>\n",
       "    </tr>\n",
       "    <tr>\n",
       "      <td>...</td>\n",
       "      <td>...</td>\n",
       "      <td>...</td>\n",
       "      <td>...</td>\n",
       "      <td>...</td>\n",
       "      <td>...</td>\n",
       "      <td>...</td>\n",
       "      <td>...</td>\n",
       "      <td>...</td>\n",
       "      <td>...</td>\n",
       "    </tr>\n",
       "    <tr>\n",
       "      <td>39185</td>\n",
       "      <td>당구장업</td>\n",
       "      <td>2020</td>\n",
       "      <td>20201209</td>\n",
       "      <td>영업/정상</td>\n",
       "      <td>NaN</td>\n",
       "      <td>NaN</td>\n",
       "      <td>전라</td>\n",
       "      <td>전라남도 장흥군 장흥읍 토요시장2길 2, 정남진 우리한우</td>\n",
       "      <td>우리당구장</td>\n",
       "    </tr>\n",
       "    <tr>\n",
       "      <td>39186</td>\n",
       "      <td>당구장업</td>\n",
       "      <td>2020</td>\n",
       "      <td>20201209</td>\n",
       "      <td>영업/정상</td>\n",
       "      <td>NaN</td>\n",
       "      <td>NaN</td>\n",
       "      <td>부산</td>\n",
       "      <td>부산광역시 중구 해관로 63-1, 2층 (중앙동4가)</td>\n",
       "      <td>해양당구장</td>\n",
       "    </tr>\n",
       "    <tr>\n",
       "      <td>39187</td>\n",
       "      <td>당구장업</td>\n",
       "      <td>2020</td>\n",
       "      <td>20201208</td>\n",
       "      <td>영업/정상</td>\n",
       "      <td>NaN</td>\n",
       "      <td>NaN</td>\n",
       "      <td>전라</td>\n",
       "      <td>전라남도 곡성군 곡성읍 곡성로 875</td>\n",
       "      <td>문화당구클럽</td>\n",
       "    </tr>\n",
       "    <tr>\n",
       "      <td>39188</td>\n",
       "      <td>당구장업</td>\n",
       "      <td>2020</td>\n",
       "      <td>20201209</td>\n",
       "      <td>영업/정상</td>\n",
       "      <td>NaN</td>\n",
       "      <td>NaN</td>\n",
       "      <td>경기</td>\n",
       "      <td>경기도 수원시 장안구 팔달로 211, 3층 (영화동)</td>\n",
       "      <td>이신영 캐롬캐슬</td>\n",
       "    </tr>\n",
       "    <tr>\n",
       "      <td>39189</td>\n",
       "      <td>당구장업</td>\n",
       "      <td>2020</td>\n",
       "      <td>20201209</td>\n",
       "      <td>영업/정상</td>\n",
       "      <td>NaN</td>\n",
       "      <td>NaN</td>\n",
       "      <td>충청</td>\n",
       "      <td>충청북도 진천군 진천읍 진광로 105</td>\n",
       "      <td>다마내기 당구클럽</td>\n",
       "    </tr>\n",
       "  </tbody>\n",
       "</table>\n",
       "<p>39190 rows × 9 columns</p>\n",
       "</div>"
      ],
      "text/plain": [
       "      개방서비스명  인허가년도     인허가일자  영업상태명  폐업년도  폐업일자   위치  \\\n",
       "0        골프장   1964  19640928  영업/정상   NaN   NaN   경기   \n",
       "1       당구장업   1968  19680108  영업/정상   NaN   NaN  NaN   \n",
       "2       당구장업   1968  19680920  영업/정상   NaN   NaN  NaN   \n",
       "3        골프장   1970  19701013  영업/정상   NaN   NaN   경기   \n",
       "4       당구장업   1970  19701112  영업/정상   NaN   NaN  NaN   \n",
       "...      ...    ...       ...    ...   ...   ...  ...   \n",
       "39185   당구장업   2020  20201209  영업/정상   NaN   NaN   전라   \n",
       "39186   당구장업   2020  20201209  영업/정상   NaN   NaN   부산   \n",
       "39187   당구장업   2020  20201208  영업/정상   NaN   NaN   전라   \n",
       "39188   당구장업   2020  20201209  영업/정상   NaN   NaN   경기   \n",
       "39189   당구장업   2020  20201209  영업/정상   NaN   NaN   충청   \n",
       "\n",
       "                                 도로명전체주소       사업장명  \n",
       "0      경기도 고양시 덕양구 고양대로1643번길 164  (원당동)    한양컨트리클럽  \n",
       "1                                    NaN      그린당구장  \n",
       "2                                    NaN         신성  \n",
       "3            경기도 용인시 처인구 남사면 전나무골길2번길 94    한원컨트리클럽  \n",
       "4                                    NaN     뉴장원당구장  \n",
       "...                                  ...        ...  \n",
       "39185    전라남도 장흥군 장흥읍 토요시장2길 2, 정남진 우리한우      우리당구장  \n",
       "39186      부산광역시 중구 해관로 63-1, 2층 (중앙동4가)      해양당구장  \n",
       "39187               전라남도 곡성군 곡성읍 곡성로 875     문화당구클럽  \n",
       "39188      경기도 수원시 장안구 팔달로 211, 3층 (영화동)   이신영 캐롬캐슬  \n",
       "39189               충청북도 진천군 진천읍 진광로 105  다마내기 당구클럽  \n",
       "\n",
       "[39190 rows x 9 columns]"
      ]
     },
     "execution_count": 3,
     "metadata": {},
     "output_type": "execute_result"
    }
   ],
   "source": [
    "df111"
   ]
  },
  {
   "cell_type": "code",
   "execution_count": 4,
   "metadata": {},
   "outputs": [],
   "source": [
    "df112 = df111.drop(['폐업년도','폐업일자'],axis=1)"
   ]
  },
  {
   "cell_type": "code",
   "execution_count": 5,
   "metadata": {},
   "outputs": [
    {
     "data": {
      "text/html": [
       "<div>\n",
       "<style scoped>\n",
       "    .dataframe tbody tr th:only-of-type {\n",
       "        vertical-align: middle;\n",
       "    }\n",
       "\n",
       "    .dataframe tbody tr th {\n",
       "        vertical-align: top;\n",
       "    }\n",
       "\n",
       "    .dataframe thead th {\n",
       "        text-align: right;\n",
       "    }\n",
       "</style>\n",
       "<table border=\"1\" class=\"dataframe\">\n",
       "  <thead>\n",
       "    <tr style=\"text-align: right;\">\n",
       "      <th></th>\n",
       "      <th>개방서비스명</th>\n",
       "      <th>인허가년도</th>\n",
       "      <th>인허가일자</th>\n",
       "      <th>영업상태명</th>\n",
       "      <th>위치</th>\n",
       "      <th>도로명전체주소</th>\n",
       "      <th>사업장명</th>\n",
       "    </tr>\n",
       "  </thead>\n",
       "  <tbody>\n",
       "    <tr>\n",
       "      <td>0</td>\n",
       "      <td>골프장</td>\n",
       "      <td>1964</td>\n",
       "      <td>19640928</td>\n",
       "      <td>영업/정상</td>\n",
       "      <td>경기</td>\n",
       "      <td>경기도 고양시 덕양구 고양대로1643번길 164  (원당동)</td>\n",
       "      <td>한양컨트리클럽</td>\n",
       "    </tr>\n",
       "    <tr>\n",
       "      <td>1</td>\n",
       "      <td>당구장업</td>\n",
       "      <td>1968</td>\n",
       "      <td>19680108</td>\n",
       "      <td>영업/정상</td>\n",
       "      <td>NaN</td>\n",
       "      <td>NaN</td>\n",
       "      <td>그린당구장</td>\n",
       "    </tr>\n",
       "    <tr>\n",
       "      <td>2</td>\n",
       "      <td>당구장업</td>\n",
       "      <td>1968</td>\n",
       "      <td>19680920</td>\n",
       "      <td>영업/정상</td>\n",
       "      <td>NaN</td>\n",
       "      <td>NaN</td>\n",
       "      <td>신성</td>\n",
       "    </tr>\n",
       "    <tr>\n",
       "      <td>3</td>\n",
       "      <td>골프장</td>\n",
       "      <td>1970</td>\n",
       "      <td>19701013</td>\n",
       "      <td>영업/정상</td>\n",
       "      <td>경기</td>\n",
       "      <td>경기도 용인시 처인구 남사면 전나무골길2번길 94</td>\n",
       "      <td>한원컨트리클럽</td>\n",
       "    </tr>\n",
       "    <tr>\n",
       "      <td>4</td>\n",
       "      <td>당구장업</td>\n",
       "      <td>1970</td>\n",
       "      <td>19701112</td>\n",
       "      <td>영업/정상</td>\n",
       "      <td>NaN</td>\n",
       "      <td>NaN</td>\n",
       "      <td>뉴장원당구장</td>\n",
       "    </tr>\n",
       "    <tr>\n",
       "      <td>...</td>\n",
       "      <td>...</td>\n",
       "      <td>...</td>\n",
       "      <td>...</td>\n",
       "      <td>...</td>\n",
       "      <td>...</td>\n",
       "      <td>...</td>\n",
       "      <td>...</td>\n",
       "    </tr>\n",
       "    <tr>\n",
       "      <td>39185</td>\n",
       "      <td>당구장업</td>\n",
       "      <td>2020</td>\n",
       "      <td>20201209</td>\n",
       "      <td>영업/정상</td>\n",
       "      <td>전라</td>\n",
       "      <td>전라남도 장흥군 장흥읍 토요시장2길 2, 정남진 우리한우</td>\n",
       "      <td>우리당구장</td>\n",
       "    </tr>\n",
       "    <tr>\n",
       "      <td>39186</td>\n",
       "      <td>당구장업</td>\n",
       "      <td>2020</td>\n",
       "      <td>20201209</td>\n",
       "      <td>영업/정상</td>\n",
       "      <td>부산</td>\n",
       "      <td>부산광역시 중구 해관로 63-1, 2층 (중앙동4가)</td>\n",
       "      <td>해양당구장</td>\n",
       "    </tr>\n",
       "    <tr>\n",
       "      <td>39187</td>\n",
       "      <td>당구장업</td>\n",
       "      <td>2020</td>\n",
       "      <td>20201208</td>\n",
       "      <td>영업/정상</td>\n",
       "      <td>전라</td>\n",
       "      <td>전라남도 곡성군 곡성읍 곡성로 875</td>\n",
       "      <td>문화당구클럽</td>\n",
       "    </tr>\n",
       "    <tr>\n",
       "      <td>39188</td>\n",
       "      <td>당구장업</td>\n",
       "      <td>2020</td>\n",
       "      <td>20201209</td>\n",
       "      <td>영업/정상</td>\n",
       "      <td>경기</td>\n",
       "      <td>경기도 수원시 장안구 팔달로 211, 3층 (영화동)</td>\n",
       "      <td>이신영 캐롬캐슬</td>\n",
       "    </tr>\n",
       "    <tr>\n",
       "      <td>39189</td>\n",
       "      <td>당구장업</td>\n",
       "      <td>2020</td>\n",
       "      <td>20201209</td>\n",
       "      <td>영업/정상</td>\n",
       "      <td>충청</td>\n",
       "      <td>충청북도 진천군 진천읍 진광로 105</td>\n",
       "      <td>다마내기 당구클럽</td>\n",
       "    </tr>\n",
       "  </tbody>\n",
       "</table>\n",
       "<p>39190 rows × 7 columns</p>\n",
       "</div>"
      ],
      "text/plain": [
       "      개방서비스명  인허가년도     인허가일자  영업상태명   위치                            도로명전체주소  \\\n",
       "0        골프장   1964  19640928  영업/정상   경기  경기도 고양시 덕양구 고양대로1643번길 164  (원당동)   \n",
       "1       당구장업   1968  19680108  영업/정상  NaN                                NaN   \n",
       "2       당구장업   1968  19680920  영업/정상  NaN                                NaN   \n",
       "3        골프장   1970  19701013  영업/정상   경기        경기도 용인시 처인구 남사면 전나무골길2번길 94   \n",
       "4       당구장업   1970  19701112  영업/정상  NaN                                NaN   \n",
       "...      ...    ...       ...    ...  ...                                ...   \n",
       "39185   당구장업   2020  20201209  영업/정상   전라    전라남도 장흥군 장흥읍 토요시장2길 2, 정남진 우리한우   \n",
       "39186   당구장업   2020  20201209  영업/정상   부산      부산광역시 중구 해관로 63-1, 2층 (중앙동4가)   \n",
       "39187   당구장업   2020  20201208  영업/정상   전라               전라남도 곡성군 곡성읍 곡성로 875   \n",
       "39188   당구장업   2020  20201209  영업/정상   경기      경기도 수원시 장안구 팔달로 211, 3층 (영화동)   \n",
       "39189   당구장업   2020  20201209  영업/정상   충청               충청북도 진천군 진천읍 진광로 105   \n",
       "\n",
       "            사업장명  \n",
       "0        한양컨트리클럽  \n",
       "1          그린당구장  \n",
       "2             신성  \n",
       "3        한원컨트리클럽  \n",
       "4         뉴장원당구장  \n",
       "...          ...  \n",
       "39185      우리당구장  \n",
       "39186      해양당구장  \n",
       "39187     문화당구클럽  \n",
       "39188   이신영 캐롬캐슬  \n",
       "39189  다마내기 당구클럽  \n",
       "\n",
       "[39190 rows x 7 columns]"
      ]
     },
     "execution_count": 5,
     "metadata": {},
     "output_type": "execute_result"
    }
   ],
   "source": [
    "df112"
   ]
  },
  {
   "cell_type": "code",
   "execution_count": 6,
   "metadata": {},
   "outputs": [
    {
     "data": {
      "text/html": [
       "<div>\n",
       "<style scoped>\n",
       "    .dataframe tbody tr th:only-of-type {\n",
       "        vertical-align: middle;\n",
       "    }\n",
       "\n",
       "    .dataframe tbody tr th {\n",
       "        vertical-align: top;\n",
       "    }\n",
       "\n",
       "    .dataframe thead th {\n",
       "        text-align: right;\n",
       "    }\n",
       "</style>\n",
       "<table border=\"1\" class=\"dataframe\">\n",
       "  <thead>\n",
       "    <tr style=\"text-align: right;\">\n",
       "      <th></th>\n",
       "      <th>2016</th>\n",
       "      <th>2019</th>\n",
       "      <th>2017</th>\n",
       "      <th>2018</th>\n",
       "      <th>2020</th>\n",
       "      <th>2008</th>\n",
       "      <th>2009</th>\n",
       "      <th>2015</th>\n",
       "      <th>2010</th>\n",
       "      <th>2007</th>\n",
       "      <th>...</th>\n",
       "      <th>1973</th>\n",
       "      <th>1975</th>\n",
       "      <th>1970</th>\n",
       "      <th>1968</th>\n",
       "      <th>1983</th>\n",
       "      <th>1971</th>\n",
       "      <th>1964</th>\n",
       "      <th>1974</th>\n",
       "      <th>1976</th>\n",
       "      <th>1979</th>\n",
       "    </tr>\n",
       "  </thead>\n",
       "  <tbody>\n",
       "    <tr>\n",
       "      <td>인허가 수</td>\n",
       "      <td>2743</td>\n",
       "      <td>2732</td>\n",
       "      <td>2653</td>\n",
       "      <td>2516</td>\n",
       "      <td>2484</td>\n",
       "      <td>2437</td>\n",
       "      <td>2313</td>\n",
       "      <td>2165</td>\n",
       "      <td>1970</td>\n",
       "      <td>1640</td>\n",
       "      <td>...</td>\n",
       "      <td>3</td>\n",
       "      <td>3</td>\n",
       "      <td>3</td>\n",
       "      <td>2</td>\n",
       "      <td>2</td>\n",
       "      <td>2</td>\n",
       "      <td>1</td>\n",
       "      <td>1</td>\n",
       "      <td>1</td>\n",
       "      <td>1</td>\n",
       "    </tr>\n",
       "  </tbody>\n",
       "</table>\n",
       "<p>1 rows × 51 columns</p>\n",
       "</div>"
      ],
      "text/plain": [
       "       2016  2019  2017  2018  2020  2008  2009  2015  2010  2007  ...  1973  \\\n",
       "인허가 수  2743  2732  2653  2516  2484  2437  2313  2165  1970  1640  ...     3   \n",
       "\n",
       "       1975  1970  1968  1983  1971  1964  1974  1976  1979  \n",
       "인허가 수     3     3     2     2     2     1     1     1     1  \n",
       "\n",
       "[1 rows x 51 columns]"
      ]
     },
     "execution_count": 6,
     "metadata": {},
     "output_type": "execute_result"
    }
   ],
   "source": [
    "df115 = df112['인허가년도'].value_counts()\n",
    "df115 = pd.DataFrame(df115)\n",
    "df115.columns = ['인허가 수']\n",
    "df116 = df115.T\n",
    "df116"
   ]
  },
  {
   "cell_type": "code",
   "execution_count": 7,
   "metadata": {},
   "outputs": [
    {
     "data": {
      "image/png": "[encoded data removed]",
      "text/plain": [
       "<Figure size 432x288 with 1 Axes>"
      ]
     },
     "metadata": {
      "needs_background": "light"
     },
     "output_type": "display_data"
    }
   ],
   "source": [
    "#년도별 폐업 갯수 막대그래프화\n",
    "\n",
    "cx = sns.barplot(data=df116)\n",
    "cx.set_xlabel('년도')\n",
    "cx.set_title('연도별 인허가 총 수')\n",
    "plt.grid(False)\n",
    "#저장 코드\n",
    "fig = cx.get_figure()\n",
    "fig.savefig(\"연도별 스포츠 시설업 인허가 총 수.png\")\n",
    "\n",
    "plt.show()"
   ]
  },
  {
   "cell_type": "markdown",
   "metadata": {},
   "source": [
    "# 연도별 폐업 총 수"
   ]
  },
  {
   "cell_type": "code",
   "execution_count": 8,
   "metadata": {},
   "outputs": [],
   "source": [
    "# LOCALDATA의 체육시설 업종(https://www.localdata.go.kr/devcenter/dataDown.do?menuNo=20001) 16개 CSV파일 다운\n",
    "## EXCEL에서 필요없는 칼럼 삭제(37개 -> 14개)\n",
    "## CSV파일 읽음\n",
    "\n",
    "df= pd.read_csv(\"C:/Users/seung/Desktop/2020년도/NanoD/github/SportsData/SportsData/standard_in_2020-12-31/csv/disclosed_sports_service.csv\", encoding=\"utf-8\")"
   ]
  },
  {
   "cell_type": "code",
   "execution_count": 9,
   "metadata": {},
   "outputs": [
    {
     "data": {
      "text/html": [
       "<div>\n",
       "<style scoped>\n",
       "    .dataframe tbody tr th:only-of-type {\n",
       "        vertical-align: middle;\n",
       "    }\n",
       "\n",
       "    .dataframe tbody tr th {\n",
       "        vertical-align: top;\n",
       "    }\n",
       "\n",
       "    .dataframe thead th {\n",
       "        text-align: right;\n",
       "    }\n",
       "</style>\n",
       "<table border=\"1\" class=\"dataframe\">\n",
       "  <thead>\n",
       "    <tr style=\"text-align: right;\">\n",
       "      <th></th>\n",
       "      <th>2020</th>\n",
       "      <th>2019</th>\n",
       "      <th>2018</th>\n",
       "      <th>2017</th>\n",
       "      <th>2016</th>\n",
       "    </tr>\n",
       "  </thead>\n",
       "  <tbody>\n",
       "    <tr>\n",
       "      <td>폐업 수</td>\n",
       "      <td>3122</td>\n",
       "      <td>2585</td>\n",
       "      <td>2529</td>\n",
       "      <td>1776</td>\n",
       "      <td>1464</td>\n",
       "    </tr>\n",
       "  </tbody>\n",
       "</table>\n",
       "</div>"
      ],
      "text/plain": [
       "      2020  2019  2018  2017  2016\n",
       "폐업 수  3122  2585  2529  1776  1464"
      ]
     },
     "execution_count": 9,
     "metadata": {},
     "output_type": "execute_result"
    }
   ],
   "source": [
    "df14 = df['폐업년도'].value_counts()\n",
    "df14 = pd.DataFrame(df14)\n",
    "df14.columns = ['폐업 수']\n",
    "df15 = df14.T\n",
    "df15"
   ]
  },
  {
   "cell_type": "code",
   "execution_count": 10,
   "metadata": {},
   "outputs": [
    {
     "data": {
      "text/html": [
       "<div>\n",
       "<style scoped>\n",
       "    .dataframe tbody tr th:only-of-type {\n",
       "        vertical-align: middle;\n",
       "    }\n",
       "\n",
       "    .dataframe tbody tr th {\n",
       "        vertical-align: top;\n",
       "    }\n",
       "\n",
       "    .dataframe thead th {\n",
       "        text-align: right;\n",
       "    }\n",
       "</style>\n",
       "<table border=\"1\" class=\"dataframe\">\n",
       "  <thead>\n",
       "    <tr style=\"text-align: right;\">\n",
       "      <th></th>\n",
       "      <th>폐업 수</th>\n",
       "    </tr>\n",
       "  </thead>\n",
       "  <tbody>\n",
       "    <tr>\n",
       "      <td>2020</td>\n",
       "      <td>3122</td>\n",
       "    </tr>\n",
       "    <tr>\n",
       "      <td>2019</td>\n",
       "      <td>2585</td>\n",
       "    </tr>\n",
       "    <tr>\n",
       "      <td>2018</td>\n",
       "      <td>2529</td>\n",
       "    </tr>\n",
       "    <tr>\n",
       "      <td>2017</td>\n",
       "      <td>1776</td>\n",
       "    </tr>\n",
       "    <tr>\n",
       "      <td>2016</td>\n",
       "      <td>1464</td>\n",
       "    </tr>\n",
       "  </tbody>\n",
       "</table>\n",
       "</div>"
      ],
      "text/plain": [
       "      폐업 수\n",
       "2020  3122\n",
       "2019  2585\n",
       "2018  2529\n",
       "2017  1776\n",
       "2016  1464"
      ]
     },
     "execution_count": 10,
     "metadata": {},
     "output_type": "execute_result"
    }
   ],
   "source": [
    "df14"
   ]
  },
  {
   "cell_type": "code",
   "execution_count": 11,
   "metadata": {},
   "outputs": [
    {
     "data": {
      "image/png": "[encoded data removed]",
      "text/plain": [
       "<Figure size 432x288 with 1 Axes>"
      ]
     },
     "metadata": {
      "needs_background": "light"
     },
     "output_type": "display_data"
    }
   ],
   "source": [
    "#년도별 폐업 갯수 막대그래프화\n",
    "\n",
    "ax = sns.barplot(data=df15)\n",
    "ax.set_xlabel('년도')\n",
    "ax.set_title('연도별 폐업 총 수')\n",
    "plt.grid(False)\n",
    "#저장 코드\n",
    "fig = ax.get_figure()\n",
    "fig.savefig(\"연도별 스포츠 시설업 폐업 총 수.png\")\n",
    "\n",
    "plt.show()"
   ]
  },
  {
   "cell_type": "code",
   "execution_count": 12,
   "metadata": {},
   "outputs": [
    {
     "data": {
      "text/html": [
       "<div>\n",
       "<style scoped>\n",
       "    .dataframe tbody tr th:only-of-type {\n",
       "        vertical-align: middle;\n",
       "    }\n",
       "\n",
       "    .dataframe tbody tr th {\n",
       "        vertical-align: top;\n",
       "    }\n",
       "\n",
       "    .dataframe thead th {\n",
       "        text-align: right;\n",
       "    }\n",
       "</style>\n",
       "<table border=\"1\" class=\"dataframe\">\n",
       "  <thead>\n",
       "    <tr style=\"text-align: right;\">\n",
       "      <th></th>\n",
       "      <th>2020</th>\n",
       "      <th>2019</th>\n",
       "      <th>2018</th>\n",
       "      <th>2017</th>\n",
       "      <th>2016</th>\n",
       "    </tr>\n",
       "  </thead>\n",
       "  <tbody>\n",
       "    <tr>\n",
       "      <td>폐업 수</td>\n",
       "      <td>3122</td>\n",
       "      <td>2585</td>\n",
       "      <td>2529</td>\n",
       "      <td>1776</td>\n",
       "      <td>1464</td>\n",
       "    </tr>\n",
       "  </tbody>\n",
       "</table>\n",
       "</div>"
      ],
      "text/plain": [
       "      2020  2019  2018  2017  2016\n",
       "폐업 수  3122  2585  2529  1776  1464"
      ]
     },
     "execution_count": 12,
     "metadata": {},
     "output_type": "execute_result"
    }
   ],
   "source": [
    "df15"
   ]
  },
  {
   "cell_type": "markdown",
   "metadata": {},
   "source": [
    "## 년도 기준 지역별 폐업 현황"
   ]
  },
  {
   "cell_type": "code",
   "execution_count": 13,
   "metadata": {},
   "outputs": [],
   "source": [
    "#excel에서 년도별로 필터처리하여 csv로 저장\n",
    "\n",
    "years2016_1= pd.read_csv(\"C:/Users/seung/Desktop/2020년도/NanoD/github/SportsData/SportsData/standard_in_2020-12-31/csv/2016_폐업_업종.csv\", encoding=\"utf-8\")\n",
    "years2017_1= pd.read_csv(\"C:/Users/seung/Desktop/2020년도/NanoD/github/SportsData/SportsData/standard_in_2020-12-31/csv/2017_폐업_업종.csv\", encoding=\"utf-8\")\n",
    "years2018_1= pd.read_csv(\"C:/Users/seung/Desktop/2020년도/NanoD/github/SportsData/SportsData/standard_in_2020-12-31/csv/2018_폐업_업종.csv\", encoding=\"utf-8\")\n",
    "years2019_1= pd.read_csv(\"C:/Users/seung/Desktop/2020년도/NanoD/github/SportsData/SportsData/standard_in_2020-12-31/csv/2019_폐업_업종.csv\", encoding=\"utf-8\")\n",
    "years2020_1= pd.read_csv(\"C:/Users/seung/Desktop/2020년도/NanoD/github/SportsData/SportsData/standard_in_2020-12-31/csv/2020_폐업_업종.csv\", encoding=\"utf-8\")"
   ]
  },
  {
   "cell_type": "code",
   "execution_count": 14,
   "metadata": {},
   "outputs": [
    {
     "data": {
      "text/html": [
       "<div>\n",
       "<style scoped>\n",
       "    .dataframe tbody tr th:only-of-type {\n",
       "        vertical-align: middle;\n",
       "    }\n",
       "\n",
       "    .dataframe tbody tr th {\n",
       "        vertical-align: top;\n",
       "    }\n",
       "\n",
       "    .dataframe thead th {\n",
       "        text-align: right;\n",
       "    }\n",
       "</style>\n",
       "<table border=\"1\" class=\"dataframe\">\n",
       "  <thead>\n",
       "    <tr style=\"text-align: right;\">\n",
       "      <th></th>\n",
       "      <th>개방서비스명</th>\n",
       "      <th>인허가년도</th>\n",
       "      <th>인허가일자</th>\n",
       "      <th>영업상태명</th>\n",
       "      <th>폐업년도</th>\n",
       "      <th>폐업일자</th>\n",
       "      <th>위치</th>\n",
       "      <th>도로명전체주소</th>\n",
       "      <th>사업장명</th>\n",
       "    </tr>\n",
       "  </thead>\n",
       "  <tbody>\n",
       "    <tr>\n",
       "      <td>0</td>\n",
       "      <td>수영장업</td>\n",
       "      <td>1997</td>\n",
       "      <td>19970927</td>\n",
       "      <td>폐업</td>\n",
       "      <td>2016</td>\n",
       "      <td>20160129</td>\n",
       "      <td>서울</td>\n",
       "      <td>서울특별시 노원구 한글비석로 383 (중계동,(지층))</td>\n",
       "      <td>삼창타워스포츠</td>\n",
       "    </tr>\n",
       "    <tr>\n",
       "      <td>1</td>\n",
       "      <td>수영장업</td>\n",
       "      <td>1996</td>\n",
       "      <td>19960513</td>\n",
       "      <td>폐업</td>\n",
       "      <td>2016</td>\n",
       "      <td>20160720</td>\n",
       "      <td>서울</td>\n",
       "      <td>서울특별시 노원구 화랑로 653 (공릉동)</td>\n",
       "      <td>이스턴캐슬수영장</td>\n",
       "    </tr>\n",
       "    <tr>\n",
       "      <td>2</td>\n",
       "      <td>수영장업</td>\n",
       "      <td>2004</td>\n",
       "      <td>20041008</td>\n",
       "      <td>폐업</td>\n",
       "      <td>2016</td>\n",
       "      <td>20160202</td>\n",
       "      <td>경기</td>\n",
       "      <td>경기도 용인시 수지구 문정로7번길 15 (풍덕천동)</td>\n",
       "      <td>용인시 여성회관 YMCA 스포츠센터</td>\n",
       "    </tr>\n",
       "    <tr>\n",
       "      <td>3</td>\n",
       "      <td>수영장업</td>\n",
       "      <td>1993</td>\n",
       "      <td>19930322</td>\n",
       "      <td>폐업</td>\n",
       "      <td>2016</td>\n",
       "      <td>20160607</td>\n",
       "      <td>경기</td>\n",
       "      <td>경기도 평택시 평택3로 5  (합정동)</td>\n",
       "      <td>새샘스포렉스</td>\n",
       "    </tr>\n",
       "    <tr>\n",
       "      <td>4</td>\n",
       "      <td>수영장업</td>\n",
       "      <td>2002</td>\n",
       "      <td>20021113</td>\n",
       "      <td>폐업</td>\n",
       "      <td>2016</td>\n",
       "      <td>20160316</td>\n",
       "      <td>경기</td>\n",
       "      <td>경기도 평택시 팽성읍 팽성송화로 63</td>\n",
       "      <td>제일스포츠센터</td>\n",
       "    </tr>\n",
       "    <tr>\n",
       "      <td>5</td>\n",
       "      <td>수영장업</td>\n",
       "      <td>2004</td>\n",
       "      <td>20040712</td>\n",
       "      <td>폐업</td>\n",
       "      <td>2016</td>\n",
       "      <td>20160418</td>\n",
       "      <td>경기</td>\n",
       "      <td>경기도 양평군 용문면 용문로164번길 42 (외2필지)</td>\n",
       "      <td>SN 수련원</td>\n",
       "    </tr>\n",
       "    <tr>\n",
       "      <td>6</td>\n",
       "      <td>수영장업</td>\n",
       "      <td>1996</td>\n",
       "      <td>19961031</td>\n",
       "      <td>폐업</td>\n",
       "      <td>2016</td>\n",
       "      <td>20160603</td>\n",
       "      <td>경기</td>\n",
       "      <td>경기도 양평군 용문면 상광길 23-6</td>\n",
       "      <td>광탄레져파크</td>\n",
       "    </tr>\n",
       "    <tr>\n",
       "      <td>7</td>\n",
       "      <td>수영장업</td>\n",
       "      <td>2004</td>\n",
       "      <td>20040520</td>\n",
       "      <td>폐업</td>\n",
       "      <td>2016</td>\n",
       "      <td>20161123</td>\n",
       "      <td>서울</td>\n",
       "      <td>서울특별시 광진구 아차산로78길 44, 지하2층 6호 (광장동, 크레스코빌딩)</td>\n",
       "      <td>포슬렌챌린지키즈수영장</td>\n",
       "    </tr>\n",
       "    <tr>\n",
       "      <td>8</td>\n",
       "      <td>수영장업</td>\n",
       "      <td>1995</td>\n",
       "      <td>19950919</td>\n",
       "      <td>폐업</td>\n",
       "      <td>2016</td>\n",
       "      <td>20160615</td>\n",
       "      <td>서울</td>\n",
       "      <td>서울특별시 동대문구 망우로 123  (휘경동)</td>\n",
       "      <td>우창실내수영장</td>\n",
       "    </tr>\n",
       "    <tr>\n",
       "      <td>9</td>\n",
       "      <td>수영장업</td>\n",
       "      <td>2015</td>\n",
       "      <td>20150908</td>\n",
       "      <td>폐업</td>\n",
       "      <td>2016</td>\n",
       "      <td>20161107</td>\n",
       "      <td>서울</td>\n",
       "      <td>서울특별시 도봉구 덕릉로63가길 61, 3층 (창동, 창동대우아파트 상가)</td>\n",
       "      <td>대우스포츠센터</td>\n",
       "    </tr>\n",
       "  </tbody>\n",
       "</table>\n",
       "</div>"
      ],
      "text/plain": [
       "  개방서비스명  인허가년도     인허가일자 영업상태명  폐업년도      폐업일자  위치  \\\n",
       "0   수영장업   1997  19970927    폐업  2016  20160129  서울   \n",
       "1   수영장업   1996  19960513    폐업  2016  20160720  서울   \n",
       "2   수영장업   2004  20041008    폐업  2016  20160202  경기   \n",
       "3   수영장업   1993  19930322    폐업  2016  20160607  경기   \n",
       "4   수영장업   2002  20021113    폐업  2016  20160316  경기   \n",
       "5   수영장업   2004  20040712    폐업  2016  20160418  경기   \n",
       "6   수영장업   1996  19961031    폐업  2016  20160603  경기   \n",
       "7   수영장업   2004  20040520    폐업  2016  20161123  서울   \n",
       "8   수영장업   1995  19950919    폐업  2016  20160615  서울   \n",
       "9   수영장업   2015  20150908    폐업  2016  20161107  서울   \n",
       "\n",
       "                                       도로명전체주소                 사업장명  \n",
       "0               서울특별시 노원구 한글비석로 383 (중계동,(지층))              삼창타워스포츠  \n",
       "1                      서울특별시 노원구 화랑로 653 (공릉동)             이스턴캐슬수영장  \n",
       "2                 경기도 용인시 수지구 문정로7번길 15 (풍덕천동)  용인시 여성회관 YMCA 스포츠센터  \n",
       "3                        경기도 평택시 평택3로 5  (합정동)               새샘스포렉스  \n",
       "4                         경기도 평택시 팽성읍 팽성송화로 63              제일스포츠센터  \n",
       "5               경기도 양평군 용문면 용문로164번길 42 (외2필지)               SN 수련원  \n",
       "6                         경기도 양평군 용문면 상광길 23-6               광탄레져파크  \n",
       "7  서울특별시 광진구 아차산로78길 44, 지하2층 6호 (광장동, 크레스코빌딩)          포슬렌챌린지키즈수영장  \n",
       "8                    서울특별시 동대문구 망우로 123  (휘경동)              우창실내수영장  \n",
       "9    서울특별시 도봉구 덕릉로63가길 61, 3층 (창동, 창동대우아파트 상가)              대우스포츠센터  "
      ]
     },
     "execution_count": 14,
     "metadata": {},
     "output_type": "execute_result"
    }
   ],
   "source": [
    "years2016_1.head(10)"
   ]
  },
  {
   "cell_type": "code",
   "execution_count": 15,
   "metadata": {
    "scrolled": true
   },
   "outputs": [],
   "source": [
    "years2016= years2016_1.drop(['영업상태명'],axis=1)\n",
    "years2017= years2017_1.drop(['영업상태명'],axis=1)\n",
    "years2018= years2018_1.drop(['영업상태명'],axis=1)\n",
    "years2019= years2019_1.drop(['영업상태명'],axis=1)\n",
    "years2020= years2020_1.drop(['영업상태명'],axis=1)"
   ]
  },
  {
   "cell_type": "code",
   "execution_count": 16,
   "metadata": {},
   "outputs": [
    {
     "data": {
      "image/png": "[encoded data removed]",
      "text/plain": [
       "<Figure size 432x288 with 1 Axes>"
      ]
     },
     "metadata": {
      "needs_background": "light"
     },
     "output_type": "display_data"
    }
   ],
   "source": [
    "YEAR2016 = years2016['위치'].value_counts(ascending=True).tail(5)\n",
    "\n",
    "YEAR2016.plot.barh(title='2016년',align='center',color='green')\n",
    "plt.grid(False)\n",
    "\n",
    "# use format='svg' or 'pdf' for vectorial pictures\n",
    "plt.savefig(('2016년 지역별 폐업 수.png'), dpi=300, format='png', bbox_inches='tight') "
   ]
  },
  {
   "cell_type": "code",
   "execution_count": 17,
   "metadata": {},
   "outputs": [
    {
     "data": {
      "image/png": "[encoded data removed]",
      "text/plain": [
       "<Figure size 432x288 with 1 Axes>"
      ]
     },
     "metadata": {
      "needs_background": "light"
     },
     "output_type": "display_data"
    }
   ],
   "source": [
    "YEAR2017 = years2017['위치'].value_counts(ascending=True).tail(5)\n",
    "\n",
    "YEAR2017.plot.barh(title='2017년',color='blue')\n",
    "plt.grid(False)\n",
    "# use format='svg' or 'pdf' for vectorial pictures\n",
    "plt.savefig(('2017년 지역별 폐업 수.png'), dpi=300, format='png', bbox_inches='tight') "
   ]
  },
  {
   "cell_type": "code",
   "execution_count": 18,
   "metadata": {},
   "outputs": [
    {
     "data": {
      "image/png": "[encoded data removed]",
      "text/plain": [
       "<Figure size 432x288 with 1 Axes>"
      ]
     },
     "metadata": {
      "needs_background": "light"
     },
     "output_type": "display_data"
    }
   ],
   "source": [
    "YEAR2018 = years2018['위치'].value_counts(ascending=True).tail(5)\n",
    "\n",
    "YEAR2018.plot.barh(title='2018년',color='black')\n",
    "plt.grid(False)\n",
    "# use format='svg' or 'pdf' for vectorial pictures\n",
    "plt.savefig(('2018년 지역별 폐업 수.png'), dpi=300, format='png', bbox_inches='tight') "
   ]
  },
  {
   "cell_type": "code",
   "execution_count": 19,
   "metadata": {},
   "outputs": [
    {
     "data": {
      "image/png": "[encoded data removed]",
      "text/plain": [
       "<Figure size 432x288 with 1 Axes>"
      ]
     },
     "metadata": {
      "needs_background": "light"
     },
     "output_type": "display_data"
    }
   ],
   "source": [
    "YEAR2019 = years2019['위치'].value_counts(ascending=True).tail(5)\n",
    "\n",
    "YEAR2019.plot.barh(title='2019년',color='yellow')\n",
    "plt.grid(False)\n",
    "# use format='svg' or 'pdf' for vectorial pictures\n",
    "plt.savefig(('2019년 지역별 폐업 수.png'), dpi=300, format='png', bbox_inches='tight') "
   ]
  },
  {
   "cell_type": "code",
   "execution_count": 20,
   "metadata": {
    "scrolled": true
   },
   "outputs": [
    {
     "data": {
      "image/png": "[encoded data removed]",
      "text/plain": [
       "<Figure size 432x288 with 1 Axes>"
      ]
     },
     "metadata": {
      "needs_background": "light"
     },
     "output_type": "display_data"
    }
   ],
   "source": [
    "YEAR2020 = years2020['위치'].value_counts(ascending=True).tail(5)\n",
    "\n",
    "YEAR2020.plot.barh(title='2020년',color='purple')\n",
    "plt.grid(False)\n",
    "# use format='svg' or 'pdf' for vectorial pictures\n",
    "plt.savefig(('2020년 지역별 폐업 수.png'), dpi=300, format='png', bbox_inches='tight') "
   ]
  },
  {
   "cell_type": "code",
   "execution_count": 36,
   "metadata": {},
   "outputs": [
    {
     "data": {
      "text/plain": [
       "인천    187\n",
       "충청    194\n",
       "경상    460\n",
       "서울    705\n",
       "경기    834\n",
       "Name: 위치, dtype: int64"
      ]
     },
     "execution_count": 36,
     "metadata": {},
     "output_type": "execute_result"
    }
   ],
   "source": [
    "YEAR2020"
   ]
  },
  {
   "cell_type": "markdown",
   "metadata": {},
   "source": [
    "### 연도, 지역 기준 업종 폐업 파악"
   ]
  },
  {
   "cell_type": "code",
   "execution_count": 21,
   "metadata": {},
   "outputs": [],
   "source": [
    "# 2016년 폐업 수 1위 경기도, 2위 서울, 3위 경상도\n",
    "# 1위~3위에서 어떤 체육 시설 폐업 갯수가 많은 지 조사 및 그래프화\n",
    "\n",
    "## 2016년 1위 경기도\n",
    "## 당구장업이 망한 갯수가 제일 많고, 체육도장업 및 골프연습장업이 2위, 3위를 함"
   ]
  },
  {
   "cell_type": "code",
   "execution_count": 22,
   "metadata": {},
   "outputs": [
    {
     "data": {
      "image/png": "[encoded data removed]",
      "text/plain": [
       "<Figure size 432x288 with 1 Axes>"
      ]
     },
     "metadata": {
      "needs_background": "light"
     },
     "output_type": "display_data"
    },
    {
     "data": {
      "image/png": "[encoded data removed]",
      "text/plain": [
       "<Figure size 432x288 with 1 Axes>"
      ]
     },
     "metadata": {
      "needs_background": "light"
     },
     "output_type": "display_data"
    },
    {
     "data": {
      "image/png": "[encoded data removed]",
      "text/plain": [
       "<Figure size 432x288 with 1 Axes>"
      ]
     },
     "metadata": {
      "needs_background": "light"
     },
     "output_type": "display_data"
    }
   ],
   "source": [
    "#2016년도 각 지역별에 따른 조회 및 병합\n",
    "\n",
    "gyeonggi = (years2016['위치']=='경기')\n",
    "seoul = (years2016['위치']=='서울')\n",
    "gyeongsang = (years2016['위치']=='경상')\n",
    "\n",
    "gyeonggi2016 = years2016.loc[gyeonggi]\n",
    "seoul2016 = years2016.loc[seoul]\n",
    "gyeongsang2016 = years2016.loc[gyeongsang]\n",
    "\n",
    "## 2016년 1위 경기도\n",
    "## 1위 당구장업, 2위 체육도장업, 3위 골프연습장업\n",
    "\n",
    "GG2016 = gyeonggi2016['개방서비스명'].value_counts(ascending=True).tail(5)\n",
    "SO2016 = seoul2016['개방서비스명'].value_counts(ascending=True).tail(5)\n",
    "GS2016 = gyeongsang2016['개방서비스명'].value_counts(ascending=True).tail(5)\n",
    "\n",
    "G2016G = pd.DataFrame(GG2016)\n",
    "S2016O = pd.DataFrame(SO2016)\n",
    "G2016S = pd.DataFrame(GS2016)\n",
    "\n",
    "G2016G.columns=['경기도']\n",
    "S2016O.columns=['서울시']\n",
    "G2016S.columns=['경상도']\n",
    "\n",
    "G2016G.plot.barh(title='경기도',color='black')\n",
    "S2016O.plot.barh(title='서울시',color='red')\n",
    "G2016S.plot.barh(title='경상도',color='yellow')\n",
    "\n",
    "\n",
    "# use format='svg' or 'pdf' for vectorial pictures\n",
    "plt.savefig(('2016년 각 지역 별 체육시설 폐업 수.png'), dpi=300, format='png', bbox_inches='tight') \n",
    "\n",
    "#### 3개 나눠진 그래프 한 개로 통합해야됨####"
   ]
  },
  {
   "cell_type": "code",
   "execution_count": 23,
   "metadata": {},
   "outputs": [],
   "source": [
    "# 2017년 폐업 수 1위 경기도, 2위 서울, 3위 경상도\n",
    "# 1위~3위에서 어떤 체육 시설 폐업 갯수가 많은 지 조사 및 그래프화\n",
    "\n",
    "## 2016년 1위 경기도\n",
    "## 당구장업이 망한 갯수가 제일 많고, 체육도장업 및 골프연습장업이 2위, 3위를 함"
   ]
  },
  {
   "cell_type": "code",
   "execution_count": 24,
   "metadata": {},
   "outputs": [
    {
     "data": {
      "text/plain": [
       "<matplotlib.axes._subplots.AxesSubplot at 0x1f385fb9948>"
      ]
     },
     "execution_count": 24,
     "metadata": {},
     "output_type": "execute_result"
    },
    {
     "data": {
      "image/png": "[encoded data removed]",
      "text/plain": [
       "<Figure size 432x288 with 1 Axes>"
      ]
     },
     "metadata": {
      "needs_background": "light"
     },
     "output_type": "display_data"
    },
    {
     "data": {
      "image/png": "[encoded data removed]",
      "text/plain": [
       "<Figure size 432x288 with 1 Axes>"
      ]
     },
     "metadata": {
      "needs_background": "light"
     },
     "output_type": "display_data"
    },
    {
     "data": {
      "image/png": "[encoded data removed]",
      "text/plain": [
       "<Figure size 432x288 with 1 Axes>"
      ]
     },
     "metadata": {
      "needs_background": "light"
     },
     "output_type": "display_data"
    }
   ],
   "source": [
    "#2017년도 각 지역별에 따른 조회 및 병합\n",
    "\n",
    "gyeonggi = (years2017['위치']=='경기')\n",
    "seoul = (years2017['위치']=='서울')\n",
    "incheon = (years2017['위치']=='인천')\n",
    "\n",
    "gyeonggi2017 = years2017.loc[gyeonggi]\n",
    "seoul2017 = years2017.loc[seoul]\n",
    "incheon2017 = years2017.loc[incheon]\n",
    "\n",
    "\n",
    "## 2017년 1위 경기도\n",
    "## 1위 당구장업, 2위 체육도장업, 3위 골프연습장업\n",
    "\n",
    "GG2017 = gyeonggi2017['개방서비스명'].value_counts(ascending=True).tail(5)\n",
    "SO2017 = seoul2017['개방서비스명'].value_counts(ascending=True).tail(5)\n",
    "IC2017 = incheon2017['개방서비스명'].value_counts(ascending=True).tail(5)\n",
    "\n",
    "G2017G = pd.DataFrame(GG2017)\n",
    "S2017O = pd.DataFrame(SO2017)\n",
    "I2017C = pd.DataFrame(IC2017)\n",
    "\n",
    "G2017G.columns=['경기도']\n",
    "S2017O.columns=['서울시']\n",
    "I2017C.columns=['인천시']\n",
    "\n",
    "G2017G.plot.barh()\n",
    "S2017O.plot.barh()\n",
    "I2017C.plot.barh()"
   ]
  },
  {
   "cell_type": "code",
   "execution_count": 25,
   "metadata": {},
   "outputs": [],
   "source": [
    "# 2018년 폐업 수 1위 경기도, 2위 서울, 3위 경상도\n",
    "# 1위~3위에서 어떤 체육 시설 폐업 갯수가 많은 지 조사 및 그래프화\n",
    "\n",
    "## 2018년 1위 경기도\n",
    "## 당구장업이 망한 갯수가 제일 많고, 체육도장업 및 골프연습장업이 2위, 3위를 함"
   ]
  },
  {
   "cell_type": "code",
   "execution_count": 26,
   "metadata": {},
   "outputs": [
    {
     "data": {
      "text/plain": [
       "<matplotlib.axes._subplots.AxesSubplot at 0x1f38647c148>"
      ]
     },
     "execution_count": 26,
     "metadata": {},
     "output_type": "execute_result"
    },
    {
     "data": {
      "image/png": "[encoded data removed]",
      "text/plain": [
       "<Figure size 432x288 with 1 Axes>"
      ]
     },
     "metadata": {
      "needs_background": "light"
     },
     "output_type": "display_data"
    },
    {
     "data": {
      "image/png": "[encoded data removed]",
      "text/plain": [
       "<Figure size 432x288 with 1 Axes>"
      ]
     },
     "metadata": {
      "needs_background": "light"
     },
     "output_type": "display_data"
    },
    {
     "data": {
      "image/png": "[encoded data removed]",
      "text/plain": [
       "<Figure size 432x288 with 1 Axes>"
      ]
     },
     "metadata": {
      "needs_background": "light"
     },
     "output_type": "display_data"
    }
   ],
   "source": [
    "#2018년도 각 지역별에 따른 조회 및 병합\n",
    "\n",
    "gyeonggi = (years2018['위치']=='경기')\n",
    "seoul = (years2018['위치']=='서울')\n",
    "gyeongsang = (years2018['위치']=='경상')\n",
    "\n",
    "gyeonggi2018 = years2018.loc[gyeonggi]\n",
    "seoul2018 = years2018.loc[seoul]\n",
    "gyeongsang2018 = years2018.loc[gyeongsang]\n",
    "\n",
    "\n",
    "## 2018년 1위 경기도\n",
    "## 1위 당구장업, 2위 체육도장업, 3위 골프연습장업\n",
    "\n",
    "GG2018 = gyeonggi2018['개방서비스명'].value_counts(ascending=True).tail(5)\n",
    "SO2018 = seoul2018['개방서비스명'].value_counts(ascending=True).tail(5)\n",
    "GS2018 = gyeongsang2018['개방서비스명'].value_counts(ascending=True).tail(5)\n",
    "\n",
    "G2018G = pd.DataFrame(GG2018)\n",
    "S2018O = pd.DataFrame(SO2018)\n",
    "G2018S = pd.DataFrame(GS2018)\n",
    "\n",
    "G2018G.columns=['경기도']\n",
    "S2018O.columns=['서울시']\n",
    "G2018S.columns=['경상도']\n",
    "\n",
    "G2018G.plot.barh()\n",
    "S2018O.plot.barh()\n",
    "G2018S.plot.barh()\n",
    "# 2017년 폐업 수 1위 경기도, 2위 서울, 3위 경상도\n",
    "# 1위~3위에서 어떤 체육 시설 폐업 갯수가 많은 지 조사 및 그래프화\n",
    "\n",
    "## 2016년 1위 경기도\n",
    "## 당구장업이 망한 갯수가 제일 많고, 체육도장업 및 골프연습장업이 2위, 3위를 함G2018S.plot.barh()"
   ]
  },
  {
   "cell_type": "code",
   "execution_count": 27,
   "metadata": {},
   "outputs": [],
   "source": [
    "# 2019년 폐업 수 1위 경기도, 2위 서울, 3위 경상도\n",
    "# 1위~3위에서 어떤 체육 시설 폐업 갯수가 많은 지 조사 및 그래프화\n",
    "\n",
    "## 2019년 1위 경기도\n",
    "## 당구장업이 망한 갯수가 제일 많고, 체육도장업 및 골프연습장업이 2위, 3위를 함"
   ]
  },
  {
   "cell_type": "code",
   "execution_count": 28,
   "metadata": {},
   "outputs": [
    {
     "data": {
      "text/plain": [
       "<matplotlib.axes._subplots.AxesSubplot at 0x1f3865f4e48>"
      ]
     },
     "execution_count": 28,
     "metadata": {},
     "output_type": "execute_result"
    },
    {
     "data": {
      "image/png": "[encoded data removed]",
      "text/plain": [
       "<Figure size 432x288 with 1 Axes>"
      ]
     },
     "metadata": {
      "needs_background": "light"
     },
     "output_type": "display_data"
    },
    {
     "data": {
      "image/png": "[encoded data removed]",
      "text/plain": [
       "<Figure size 432x288 with 1 Axes>"
      ]
     },
     "metadata": {
      "needs_background": "light"
     },
     "output_type": "display_data"
    },
    {
     "data": {
      "image/png": "[encoded data removed]",
      "text/plain": [
       "<Figure size 432x288 with 1 Axes>"
      ]
     },
     "metadata": {
      "needs_background": "light"
     },
     "output_type": "display_data"
    }
   ],
   "source": [
    "#2019년도 각 지역별에 따른 조회 및 병합\n",
    "\n",
    "gyeonggi = (years2019['위치']=='경기')\n",
    "seoul = (years2019['위치']=='서울')\n",
    "gyeongsang = (years2019['위치']=='경상')\n",
    "\n",
    "gyeonggi2019 = years2019.loc[gyeonggi]\n",
    "seoul2019 = years2019.loc[seoul]\n",
    "gyeongsang2019 = years2019.loc[gyeongsang]\n",
    "\n",
    "\n",
    "## 2019년 1위 경기도\n",
    "## 1위 당구장업, 2위 체육도장업, 3위 골프연습장업\n",
    "\n",
    "GG2019 = gyeonggi2019['개방서비스명'].value_counts(ascending=True).tail(5)\n",
    "SO2019 = seoul2019['개방서비스명'].value_counts(ascending=True).tail(5)\n",
    "GS2019 = gyeongsang2019['개방서비스명'].value_counts(ascending=True).tail(5)\n",
    "\n",
    "G2019G = pd.DataFrame(GG2019)\n",
    "S2019O = pd.DataFrame(SO2019)\n",
    "G2019S = pd.DataFrame(GS2019)\n",
    "\n",
    "G2019G.columns=['경기도']\n",
    "S2019O.columns=['서울시']\n",
    "G2019S.columns=['경상도']\n",
    "\n",
    "G2019G.plot.barh()\n",
    "S2019O.plot.barh()\n",
    "G2019S.plot.barh()"
   ]
  },
  {
   "cell_type": "code",
   "execution_count": 29,
   "metadata": {},
   "outputs": [],
   "source": [
    "# 2020년 폐업 수 1위 경기도, 2위 서울, 3위 경상도\n",
    "# 1위~3위에서 어떤 체육 시설 폐업 갯수가 많은 지 조사 및 그래프화\n",
    "\n",
    "## 2020년 1위 경기도\n",
    "## 당구장업이 망한 갯수가 제일 많고, 체육도장업 및 골프연습장업이 2위, 3위를 함"
   ]
  },
  {
   "cell_type": "code",
   "execution_count": 34,
   "metadata": {},
   "outputs": [
    {
     "data": {
      "image/png": "[encoded data removed]",
      "text/plain": [
       "<Figure size 432x288 with 1 Axes>"
      ]
     },
     "metadata": {
      "needs_background": "light"
     },
     "output_type": "display_data"
    },
    {
     "data": {
      "image/png": "[encoded data removed]",
      "text/plain": [
       "<Figure size 432x288 with 1 Axes>"
      ]
     },
     "metadata": {
      "needs_background": "light"
     },
     "output_type": "display_data"
    },
    {
     "data": {
      "image/png": "[encoded data removed]",
      "text/plain": [
       "<Figure size 432x288 with 1 Axes>"
      ]
     },
     "metadata": {
      "needs_background": "light"
     },
     "output_type": "display_data"
    }
   ],
   "source": [
    "#2020년도 각 지역별에 따른 조회 및 병합\n",
    "\n",
    "gyeonggi = (years2020['위치']=='경기')\n",
    "seoul = (years2020['위치']=='서울')\n",
    "gyeongsang = (years2020['위치']=='경상')\n",
    "\n",
    "gyeonggi2020 = years2020.loc[gyeonggi]\n",
    "seoul2020 = years2020.loc[seoul]\n",
    "gyeongsang2020 = years2020.loc[gyeongsang]\n",
    "\n",
    "\n",
    "## 2020년 1위 경기도\n",
    "## 1위 당구장업, 2위 체육도장업, 3위 골프연습장업\n",
    "\n",
    "GG2020 = gyeonggi2020['개방서비스명'].value_counts(ascending=True).tail(5)\n",
    "SO2020 = seoul2020['개방서비스명'].value_counts(ascending=True).tail(5)\n",
    "GS2020 = gyeongsang2020['개방서비스명'].value_counts(ascending=True).tail(5)\n",
    "\n",
    "G2020G = pd.DataFrame(GG2020)\n",
    "S2020O = pd.DataFrame(SO2020)\n",
    "G2020S = pd.DataFrame(GS2020)\n",
    "\n",
    "G2020G.columns=['경기도']\n",
    "S2020O.columns=['서울시']\n",
    "G2020S.columns=['경상도']\n",
    "\n",
    "G2020G.plot.barh(title='경기도',color='green')\n",
    "S2020O.plot.barh(title='서울시',color='blue')\n",
    "G2020S.plot.barh(title='경상도',color='red')\n",
    "\n",
    "# use format='svg' or 'pdf' for vectorial pictures\n",
    "plt.savefig(('2020년 상위 3개 체육 업종 수.png'), dpi=300, format='png', bbox_inches='tight') \n",
    "\n",
    "#### 3개 나눠진 그래프 한 개로 통합해야됨####"
   ]
  },
  {
   "cell_type": "code",
   "execution_count": 35,
   "metadata": {},
   "outputs": [
    {
     "data": {
      "text/html": [
       "<div>\n",
       "<style scoped>\n",
       "    .dataframe tbody tr th:only-of-type {\n",
       "        vertical-align: middle;\n",
       "    }\n",
       "\n",
       "    .dataframe tbody tr th {\n",
       "        vertical-align: top;\n",
       "    }\n",
       "\n",
       "    .dataframe thead th {\n",
       "        text-align: right;\n",
       "    }\n",
       "</style>\n",
       "<table border=\"1\" class=\"dataframe\">\n",
       "  <thead>\n",
       "    <tr style=\"text-align: right;\">\n",
       "      <th></th>\n",
       "      <th>서울시</th>\n",
       "    </tr>\n",
       "  </thead>\n",
       "  <tbody>\n",
       "    <tr>\n",
       "      <td>무도장업</td>\n",
       "      <td>4</td>\n",
       "    </tr>\n",
       "    <tr>\n",
       "      <td>무도학원업</td>\n",
       "      <td>7</td>\n",
       "    </tr>\n",
       "    <tr>\n",
       "      <td>골프연습장업</td>\n",
       "      <td>103</td>\n",
       "    </tr>\n",
       "    <tr>\n",
       "      <td>체력단련장업</td>\n",
       "      <td>104</td>\n",
       "    </tr>\n",
       "    <tr>\n",
       "      <td>당구장업</td>\n",
       "      <td>479</td>\n",
       "    </tr>\n",
       "  </tbody>\n",
       "</table>\n",
       "</div>"
      ],
      "text/plain": [
       "        서울시\n",
       "무도장업      4\n",
       "무도학원업     7\n",
       "골프연습장업  103\n",
       "체력단련장업  104\n",
       "당구장업    479"
      ]
     },
     "execution_count": 35,
     "metadata": {},
     "output_type": "execute_result"
    }
   ],
   "source": [
    "S2020O"
   ]
  },
  {
   "cell_type": "code",
   "execution_count": 31,
   "metadata": {},
   "outputs": [],
   "source": [
    "# 행,열 변환 .T 입력하면 됨\n",
    "\n",
    "GYEONGGI2017 = G2017G.T\n",
    "SEOUL2017 = S2017O.T\n",
    "INCHEON2017 = I2017C.T"
   ]
  },
  {
   "cell_type": "code",
   "execution_count": 32,
   "metadata": {},
   "outputs": [
    {
     "data": {
      "text/plain": [
       "<matplotlib.axes._subplots.AxesSubplot at 0x1f386825788>"
      ]
     },
     "execution_count": 32,
     "metadata": {},
     "output_type": "execute_result"
    },
    {
     "data": {
      "image/png": "[encoded data removed]",
      "text/plain": [
       "<Figure size 360x360 with 1 Axes>"
      ]
     },
     "metadata": {},
     "output_type": "display_data"
    }
   ],
   "source": [
    "#autopct 수치 자동 입력\n",
    "\n",
    "S2017O.plot.pie(y='서울시',figsize=(5,5),autopct='%.2f%%')"
   ]
  },
  {
   "cell_type": "code",
   "execution_count": null,
   "metadata": {},
   "outputs": [],
   "source": [
    "import scipy.stats as stats\n",
    "\n",
    "# 피어슨 상관계수 검정\n",
    "corr = stats.pearsonr(cor01.sales, cor01.gdp1)\n",
    "corr"
   ]
  }
 ],
 "metadata": {
  "kernelspec": {
   "display_name": "Python 3",
   "language": "python",
   "name": "python3"
  },
  "language_info": {
   "codemirror_mode": {
    "name": "ipython",
    "version": 3
   },
   "file_extension": ".py",
   "mimetype": "text/x-python",
   "name": "python",
   "nbconvert_exporter": "python",
   "pygments_lexer": "ipython3",
   "version": "3.7.4"
  }
 },
 "nbformat": 4,
 "nbformat_minor": 2
}
