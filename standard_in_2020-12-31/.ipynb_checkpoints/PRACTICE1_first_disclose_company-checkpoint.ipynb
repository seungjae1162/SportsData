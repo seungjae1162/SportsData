{
 "cells": [
  {
   "cell_type": "code",
   "execution_count": 1,
   "metadata": {},
   "outputs": [],
   "source": [
    "#필요한 라이브러리(패키지) import\n",
    "\n",
    "import pandas as pd\n",
    "import numpy as np\n",
    "import csv\n",
    "\n",
    "# 시각화 패키지\n",
    "import matplotlib.pyplot as plt\n",
    "import seaborn as sns\n",
    "plt.rcParams['font.family'] = 'Malgun Gothic'\n",
    "\n",
    "%matplotlib inline"
   ]
  },
  {
   "cell_type": "code",
   "execution_count": 2,
   "metadata": {},
   "outputs": [],
   "source": [
    "# LOCALDATA의 체육시설 업종(https://www.localdata.go.kr/devcenter/dataDown.do?menuNo=20001) 16개 CSV파일 다운\n",
    "## EXCEL에서 필요없는 칼럼 삭제(37개 -> 14개)\n",
    "## CSV파일 읽음\n",
    "\n",
    "df= pd.read_csv(\"/Users/seung/Desktop/standard_in_2020-12-17/csv/disclosed_sports_service.csv\", encoding=\"utf-8\")"
   ]
  },
  {
   "cell_type": "code",
   "execution_count": 3,
   "metadata": {},
   "outputs": [
    {
     "data": {
      "text/html": [
       "<div>\n",
       "<style scoped>\n",
       "    .dataframe tbody tr th:only-of-type {\n",
       "        vertical-align: middle;\n",
       "    }\n",
       "\n",
       "    .dataframe tbody tr th {\n",
       "        vertical-align: top;\n",
       "    }\n",
       "\n",
       "    .dataframe thead th {\n",
       "        text-align: right;\n",
       "    }\n",
       "</style>\n",
       "<table border=\"1\" class=\"dataframe\">\n",
       "  <thead>\n",
       "    <tr style=\"text-align: right;\">\n",
       "      <th></th>\n",
       "      <th>번호</th>\n",
       "      <th>사업장명</th>\n",
       "      <th>개방서비스명</th>\n",
       "      <th>인허가일자</th>\n",
       "      <th>년도</th>\n",
       "      <th>인허가취소일자</th>\n",
       "      <th>영업상태명</th>\n",
       "      <th>상세영업상태명</th>\n",
       "      <th>폐업년도</th>\n",
       "      <th>폐업일자</th>\n",
       "      <th>위치</th>\n",
       "      <th>도로명전체주소</th>\n",
       "      <th>문화체육업종명</th>\n",
       "      <th>공사립구분명</th>\n",
       "    </tr>\n",
       "  </thead>\n",
       "  <tbody>\n",
       "    <tr>\n",
       "      <td>0</td>\n",
       "      <td>1</td>\n",
       "      <td>월계수체육관</td>\n",
       "      <td>체육도장업</td>\n",
       "      <td>19970419</td>\n",
       "      <td>1997.0</td>\n",
       "      <td>NaN</td>\n",
       "      <td>폐업</td>\n",
       "      <td>폐업</td>\n",
       "      <td>2016</td>\n",
       "      <td>20160104</td>\n",
       "      <td>경기</td>\n",
       "      <td>경기도 안산시 상록구 감골로 141  (사동)</td>\n",
       "      <td>체육도장업</td>\n",
       "      <td>사립</td>\n",
       "    </tr>\n",
       "    <tr>\n",
       "      <td>1</td>\n",
       "      <td>2</td>\n",
       "      <td>힘찬태권도 체육관</td>\n",
       "      <td>체육도장업</td>\n",
       "      <td>20120927</td>\n",
       "      <td>2012.0</td>\n",
       "      <td>NaN</td>\n",
       "      <td>폐업</td>\n",
       "      <td>폐업</td>\n",
       "      <td>2016</td>\n",
       "      <td>20160104</td>\n",
       "      <td>경기</td>\n",
       "      <td>경기도 파주시 동패로 98 (동패동)</td>\n",
       "      <td>체육도장업</td>\n",
       "      <td>사립</td>\n",
       "    </tr>\n",
       "    <tr>\n",
       "      <td>2</td>\n",
       "      <td>3</td>\n",
       "      <td>종합태권도장</td>\n",
       "      <td>체육도장업</td>\n",
       "      <td>19891216</td>\n",
       "      <td>1989.0</td>\n",
       "      <td>NaN</td>\n",
       "      <td>폐업</td>\n",
       "      <td>폐업</td>\n",
       "      <td>2016</td>\n",
       "      <td>20160104</td>\n",
       "      <td>충청</td>\n",
       "      <td>충청남도 청양군 청양읍 칠갑산로1길 22</td>\n",
       "      <td>체육도장업</td>\n",
       "      <td>사립</td>\n",
       "    </tr>\n",
       "    <tr>\n",
       "      <td>3</td>\n",
       "      <td>4</td>\n",
       "      <td>친절한 헬스클럽</td>\n",
       "      <td>체육도장업</td>\n",
       "      <td>20090212</td>\n",
       "      <td>2009.0</td>\n",
       "      <td>NaN</td>\n",
       "      <td>폐업</td>\n",
       "      <td>폐업</td>\n",
       "      <td>2016</td>\n",
       "      <td>20160104</td>\n",
       "      <td>충청</td>\n",
       "      <td>충청남도 청양군 청양읍 칠갑산로 287</td>\n",
       "      <td>체육도장업</td>\n",
       "      <td>사립</td>\n",
       "    </tr>\n",
       "    <tr>\n",
       "      <td>4</td>\n",
       "      <td>5</td>\n",
       "      <td>고한눈썰매장</td>\n",
       "      <td>썰매장업</td>\n",
       "      <td>19941230</td>\n",
       "      <td>1994.0</td>\n",
       "      <td>NaN</td>\n",
       "      <td>폐업</td>\n",
       "      <td>폐업</td>\n",
       "      <td>2016</td>\n",
       "      <td>20160104</td>\n",
       "      <td>강원</td>\n",
       "      <td>강원도 정선군 고한읍 소두문동길 106</td>\n",
       "      <td>썰매장업</td>\n",
       "      <td>사립</td>\n",
       "    </tr>\n",
       "  </tbody>\n",
       "</table>\n",
       "</div>"
      ],
      "text/plain": [
       "   번호       사업장명 개방서비스명     인허가일자      년도  인허가취소일자 영업상태명 상세영업상태명  폐업년도  \\\n",
       "0   1     월계수체육관  체육도장업  19970419  1997.0      NaN    폐업      폐업  2016   \n",
       "1   2  힘찬태권도 체육관  체육도장업  20120927  2012.0      NaN    폐업      폐업  2016   \n",
       "2   3     종합태권도장  체육도장업  19891216  1989.0      NaN    폐업      폐업  2016   \n",
       "3   4   친절한 헬스클럽  체육도장업  20090212  2009.0      NaN    폐업      폐업  2016   \n",
       "4   5     고한눈썰매장   썰매장업  19941230  1994.0      NaN    폐업      폐업  2016   \n",
       "\n",
       "       폐업일자  위치                    도로명전체주소 문화체육업종명 공사립구분명  \n",
       "0  20160104  경기  경기도 안산시 상록구 감골로 141  (사동)   체육도장업     사립  \n",
       "1  20160104  경기       경기도 파주시 동패로 98 (동패동)   체육도장업     사립  \n",
       "2  20160104  충청     충청남도 청양군 청양읍 칠갑산로1길 22   체육도장업     사립  \n",
       "3  20160104  충청      충청남도 청양군 청양읍 칠갑산로 287   체육도장업     사립  \n",
       "4  20160104  강원      강원도 정선군 고한읍 소두문동길 106    썰매장업     사립  "
      ]
     },
     "execution_count": 3,
     "metadata": {},
     "output_type": "execute_result"
    }
   ],
   "source": [
    "# 데이터 제대로 읽어왔는지, 상위 5개 행 보기\n",
    "\n",
    "df.head()"
   ]
  },
  {
   "cell_type": "code",
   "execution_count": 4,
   "metadata": {},
   "outputs": [],
   "source": [
    "# 필요없는'번호','인허가일자','인허가취소일자','영업상태명','폐업일자','공사립구분명' 을 삭제함\n",
    "\n",
    "df1 = df.drop(['번호','인허가일자','인허가취소일자','영업상태명','폐업일자','공사립구분명','문화체육업종명'],axis=1)"
   ]
  },
  {
   "cell_type": "code",
   "execution_count": 5,
   "metadata": {},
   "outputs": [
    {
     "data": {
      "text/html": [
       "<div>\n",
       "<style scoped>\n",
       "    .dataframe tbody tr th:only-of-type {\n",
       "        vertical-align: middle;\n",
       "    }\n",
       "\n",
       "    .dataframe tbody tr th {\n",
       "        vertical-align: top;\n",
       "    }\n",
       "\n",
       "    .dataframe thead th {\n",
       "        text-align: right;\n",
       "    }\n",
       "</style>\n",
       "<table border=\"1\" class=\"dataframe\">\n",
       "  <thead>\n",
       "    <tr style=\"text-align: right;\">\n",
       "      <th></th>\n",
       "      <th>사업장명</th>\n",
       "      <th>개방서비스명</th>\n",
       "      <th>년도</th>\n",
       "      <th>상세영업상태명</th>\n",
       "      <th>폐업년도</th>\n",
       "      <th>위치</th>\n",
       "      <th>도로명전체주소</th>\n",
       "    </tr>\n",
       "  </thead>\n",
       "  <tbody>\n",
       "    <tr>\n",
       "      <td>0</td>\n",
       "      <td>월계수체육관</td>\n",
       "      <td>체육도장업</td>\n",
       "      <td>1997.0</td>\n",
       "      <td>폐업</td>\n",
       "      <td>2016</td>\n",
       "      <td>경기</td>\n",
       "      <td>경기도 안산시 상록구 감골로 141  (사동)</td>\n",
       "    </tr>\n",
       "    <tr>\n",
       "      <td>1</td>\n",
       "      <td>힘찬태권도 체육관</td>\n",
       "      <td>체육도장업</td>\n",
       "      <td>2012.0</td>\n",
       "      <td>폐업</td>\n",
       "      <td>2016</td>\n",
       "      <td>경기</td>\n",
       "      <td>경기도 파주시 동패로 98 (동패동)</td>\n",
       "    </tr>\n",
       "    <tr>\n",
       "      <td>2</td>\n",
       "      <td>종합태권도장</td>\n",
       "      <td>체육도장업</td>\n",
       "      <td>1989.0</td>\n",
       "      <td>폐업</td>\n",
       "      <td>2016</td>\n",
       "      <td>충청</td>\n",
       "      <td>충청남도 청양군 청양읍 칠갑산로1길 22</td>\n",
       "    </tr>\n",
       "    <tr>\n",
       "      <td>3</td>\n",
       "      <td>친절한 헬스클럽</td>\n",
       "      <td>체육도장업</td>\n",
       "      <td>2009.0</td>\n",
       "      <td>폐업</td>\n",
       "      <td>2016</td>\n",
       "      <td>충청</td>\n",
       "      <td>충청남도 청양군 청양읍 칠갑산로 287</td>\n",
       "    </tr>\n",
       "    <tr>\n",
       "      <td>4</td>\n",
       "      <td>고한눈썰매장</td>\n",
       "      <td>썰매장업</td>\n",
       "      <td>1994.0</td>\n",
       "      <td>폐업</td>\n",
       "      <td>2016</td>\n",
       "      <td>강원</td>\n",
       "      <td>강원도 정선군 고한읍 소두문동길 106</td>\n",
       "    </tr>\n",
       "  </tbody>\n",
       "</table>\n",
       "</div>"
      ],
      "text/plain": [
       "        사업장명 개방서비스명      년도 상세영업상태명  폐업년도  위치                    도로명전체주소\n",
       "0     월계수체육관  체육도장업  1997.0      폐업  2016  경기  경기도 안산시 상록구 감골로 141  (사동)\n",
       "1  힘찬태권도 체육관  체육도장업  2012.0      폐업  2016  경기       경기도 파주시 동패로 98 (동패동)\n",
       "2     종합태권도장  체육도장업  1989.0      폐업  2016  충청     충청남도 청양군 청양읍 칠갑산로1길 22\n",
       "3   친절한 헬스클럽  체육도장업  2009.0      폐업  2016  충청      충청남도 청양군 청양읍 칠갑산로 287\n",
       "4     고한눈썰매장   썰매장업  1994.0      폐업  2016  강원      강원도 정선군 고한읍 소두문동길 106"
      ]
     },
     "execution_count": 5,
     "metadata": {},
     "output_type": "execute_result"
    }
   ],
   "source": [
    "# 칼럼 삭제 확인\n",
    "\n",
    "df1.head()"
   ]
  },
  {
   "cell_type": "code",
   "execution_count": 6,
   "metadata": {},
   "outputs": [],
   "source": [
    "# 칼럼명을 한글에서 영어로 변경\n",
    "\n",
    "df1.columns=['Brand_name','Open_Service','Build_Year','Present_Status','Disclosed_year','Area','Doro_Entire']"
   ]
  },
  {
   "cell_type": "code",
   "execution_count": 7,
   "metadata": {},
   "outputs": [
    {
     "data": {
      "text/html": [
       "<div>\n",
       "<style scoped>\n",
       "    .dataframe tbody tr th:only-of-type {\n",
       "        vertical-align: middle;\n",
       "    }\n",
       "\n",
       "    .dataframe tbody tr th {\n",
       "        vertical-align: top;\n",
       "    }\n",
       "\n",
       "    .dataframe thead th {\n",
       "        text-align: right;\n",
       "    }\n",
       "</style>\n",
       "<table border=\"1\" class=\"dataframe\">\n",
       "  <thead>\n",
       "    <tr style=\"text-align: right;\">\n",
       "      <th></th>\n",
       "      <th>Brand_name</th>\n",
       "      <th>Open_Service</th>\n",
       "      <th>Build_Year</th>\n",
       "      <th>Present_Status</th>\n",
       "      <th>Disclosed_year</th>\n",
       "      <th>Area</th>\n",
       "      <th>Doro_Entire</th>\n",
       "    </tr>\n",
       "  </thead>\n",
       "  <tbody>\n",
       "    <tr>\n",
       "      <td>0</td>\n",
       "      <td>월계수체육관</td>\n",
       "      <td>체육도장업</td>\n",
       "      <td>1997.0</td>\n",
       "      <td>폐업</td>\n",
       "      <td>2016</td>\n",
       "      <td>경기</td>\n",
       "      <td>경기도 안산시 상록구 감골로 141  (사동)</td>\n",
       "    </tr>\n",
       "    <tr>\n",
       "      <td>1</td>\n",
       "      <td>힘찬태권도 체육관</td>\n",
       "      <td>체육도장업</td>\n",
       "      <td>2012.0</td>\n",
       "      <td>폐업</td>\n",
       "      <td>2016</td>\n",
       "      <td>경기</td>\n",
       "      <td>경기도 파주시 동패로 98 (동패동)</td>\n",
       "    </tr>\n",
       "    <tr>\n",
       "      <td>2</td>\n",
       "      <td>종합태권도장</td>\n",
       "      <td>체육도장업</td>\n",
       "      <td>1989.0</td>\n",
       "      <td>폐업</td>\n",
       "      <td>2016</td>\n",
       "      <td>충청</td>\n",
       "      <td>충청남도 청양군 청양읍 칠갑산로1길 22</td>\n",
       "    </tr>\n",
       "    <tr>\n",
       "      <td>3</td>\n",
       "      <td>친절한 헬스클럽</td>\n",
       "      <td>체육도장업</td>\n",
       "      <td>2009.0</td>\n",
       "      <td>폐업</td>\n",
       "      <td>2016</td>\n",
       "      <td>충청</td>\n",
       "      <td>충청남도 청양군 청양읍 칠갑산로 287</td>\n",
       "    </tr>\n",
       "    <tr>\n",
       "      <td>4</td>\n",
       "      <td>고한눈썰매장</td>\n",
       "      <td>썰매장업</td>\n",
       "      <td>1994.0</td>\n",
       "      <td>폐업</td>\n",
       "      <td>2016</td>\n",
       "      <td>강원</td>\n",
       "      <td>강원도 정선군 고한읍 소두문동길 106</td>\n",
       "    </tr>\n",
       "    <tr>\n",
       "      <td>5</td>\n",
       "      <td>슈헬스크럽</td>\n",
       "      <td>체력단련장업</td>\n",
       "      <td>1996.0</td>\n",
       "      <td>폐업</td>\n",
       "      <td>2016</td>\n",
       "      <td>서울</td>\n",
       "      <td>서울특별시 광진구 자양로45길 16  (구의동,(4층))</td>\n",
       "    </tr>\n",
       "    <tr>\n",
       "      <td>6</td>\n",
       "      <td>리얼무브지온</td>\n",
       "      <td>체력단련장업</td>\n",
       "      <td>2012.0</td>\n",
       "      <td>폐업</td>\n",
       "      <td>2016</td>\n",
       "      <td>인천</td>\n",
       "      <td>인천광역시 부평구 아트센터로44번길 3 (십정동)</td>\n",
       "    </tr>\n",
       "    <tr>\n",
       "      <td>7</td>\n",
       "      <td>명품당구클럽</td>\n",
       "      <td>당구장업</td>\n",
       "      <td>2013.0</td>\n",
       "      <td>폐업</td>\n",
       "      <td>2016</td>\n",
       "      <td>광주</td>\n",
       "      <td>광주광역시 광산구 남동길30번길 45-18, 2층 (도산동)</td>\n",
       "    </tr>\n",
       "    <tr>\n",
       "      <td>8</td>\n",
       "      <td>K-1 당구장</td>\n",
       "      <td>당구장업</td>\n",
       "      <td>2007.0</td>\n",
       "      <td>폐업</td>\n",
       "      <td>2016</td>\n",
       "      <td>경기</td>\n",
       "      <td>경기도 평택시 막곡길 8 (가재동)</td>\n",
       "    </tr>\n",
       "    <tr>\n",
       "      <td>9</td>\n",
       "      <td>쓸쿠당구장</td>\n",
       "      <td>당구장업</td>\n",
       "      <td>2001.0</td>\n",
       "      <td>폐업</td>\n",
       "      <td>2016</td>\n",
       "      <td>서울</td>\n",
       "      <td>서울특별시 구로구 디지털로32길 97-27  (구로동,9)</td>\n",
       "    </tr>\n",
       "  </tbody>\n",
       "</table>\n",
       "</div>"
      ],
      "text/plain": [
       "  Brand_name Open_Service  Build_Year Present_Status  Disclosed_year Area  \\\n",
       "0     월계수체육관        체육도장업      1997.0             폐업            2016   경기   \n",
       "1  힘찬태권도 체육관        체육도장업      2012.0             폐업            2016   경기   \n",
       "2     종합태권도장        체육도장업      1989.0             폐업            2016   충청   \n",
       "3   친절한 헬스클럽        체육도장업      2009.0             폐업            2016   충청   \n",
       "4     고한눈썰매장         썰매장업      1994.0             폐업            2016   강원   \n",
       "5      슈헬스크럽       체력단련장업      1996.0             폐업            2016   서울   \n",
       "6     리얼무브지온       체력단련장업      2012.0             폐업            2016   인천   \n",
       "7     명품당구클럽         당구장업      2013.0             폐업            2016   광주   \n",
       "8    K-1 당구장         당구장업      2007.0             폐업            2016   경기   \n",
       "9      쓸쿠당구장         당구장업      2001.0             폐업            2016   서울   \n",
       "\n",
       "                         Doro_Entire  \n",
       "0          경기도 안산시 상록구 감골로 141  (사동)  \n",
       "1               경기도 파주시 동패로 98 (동패동)  \n",
       "2             충청남도 청양군 청양읍 칠갑산로1길 22  \n",
       "3              충청남도 청양군 청양읍 칠갑산로 287  \n",
       "4              강원도 정선군 고한읍 소두문동길 106  \n",
       "5    서울특별시 광진구 자양로45길 16  (구의동,(4층))  \n",
       "6        인천광역시 부평구 아트센터로44번길 3 (십정동)  \n",
       "7  광주광역시 광산구 남동길30번길 45-18, 2층 (도산동)  \n",
       "8                경기도 평택시 막곡길 8 (가재동)  \n",
       "9   서울특별시 구로구 디지털로32길 97-27  (구로동,9)  "
      ]
     },
     "execution_count": 7,
     "metadata": {},
     "output_type": "execute_result"
    }
   ],
   "source": [
    "# 컬럼명 잘 변환됐는지 상위 10개행 보기\n",
    "\n",
    "df1.head(10)"
   ]
  },
  {
   "cell_type": "code",
   "execution_count": 8,
   "metadata": {},
   "outputs": [],
   "source": [
    "# 데이터프레임화\n",
    "\n",
    "df= pd.DataFrame(data=df1)"
   ]
  },
  {
   "cell_type": "code",
   "execution_count": 9,
   "metadata": {
    "scrolled": true
   },
   "outputs": [
    {
     "data": {
      "text/html": [
       "<div>\n",
       "<style scoped>\n",
       "    .dataframe tbody tr th:only-of-type {\n",
       "        vertical-align: middle;\n",
       "    }\n",
       "\n",
       "    .dataframe tbody tr th {\n",
       "        vertical-align: top;\n",
       "    }\n",
       "\n",
       "    .dataframe thead th {\n",
       "        text-align: right;\n",
       "    }\n",
       "</style>\n",
       "<table border=\"1\" class=\"dataframe\">\n",
       "  <thead>\n",
       "    <tr style=\"text-align: right;\">\n",
       "      <th></th>\n",
       "      <th>Brand_name</th>\n",
       "      <th>Open_Service</th>\n",
       "      <th>Build_Year</th>\n",
       "      <th>Present_Status</th>\n",
       "      <th>Disclosed_year</th>\n",
       "      <th>Area</th>\n",
       "      <th>Doro_Entire</th>\n",
       "    </tr>\n",
       "  </thead>\n",
       "  <tbody>\n",
       "    <tr>\n",
       "      <td>0</td>\n",
       "      <td>월계수체육관</td>\n",
       "      <td>체육도장업</td>\n",
       "      <td>1997.0</td>\n",
       "      <td>폐업</td>\n",
       "      <td>2016</td>\n",
       "      <td>경기</td>\n",
       "      <td>경기도 안산시 상록구 감골로 141  (사동)</td>\n",
       "    </tr>\n",
       "    <tr>\n",
       "      <td>1</td>\n",
       "      <td>힘찬태권도 체육관</td>\n",
       "      <td>체육도장업</td>\n",
       "      <td>2012.0</td>\n",
       "      <td>폐업</td>\n",
       "      <td>2016</td>\n",
       "      <td>경기</td>\n",
       "      <td>경기도 파주시 동패로 98 (동패동)</td>\n",
       "    </tr>\n",
       "    <tr>\n",
       "      <td>2</td>\n",
       "      <td>종합태권도장</td>\n",
       "      <td>체육도장업</td>\n",
       "      <td>1989.0</td>\n",
       "      <td>폐업</td>\n",
       "      <td>2016</td>\n",
       "      <td>충청</td>\n",
       "      <td>충청남도 청양군 청양읍 칠갑산로1길 22</td>\n",
       "    </tr>\n",
       "    <tr>\n",
       "      <td>3</td>\n",
       "      <td>친절한 헬스클럽</td>\n",
       "      <td>체육도장업</td>\n",
       "      <td>2009.0</td>\n",
       "      <td>폐업</td>\n",
       "      <td>2016</td>\n",
       "      <td>충청</td>\n",
       "      <td>충청남도 청양군 청양읍 칠갑산로 287</td>\n",
       "    </tr>\n",
       "    <tr>\n",
       "      <td>4</td>\n",
       "      <td>고한눈썰매장</td>\n",
       "      <td>썰매장업</td>\n",
       "      <td>1994.0</td>\n",
       "      <td>폐업</td>\n",
       "      <td>2016</td>\n",
       "      <td>강원</td>\n",
       "      <td>강원도 정선군 고한읍 소두문동길 106</td>\n",
       "    </tr>\n",
       "    <tr>\n",
       "      <td>5</td>\n",
       "      <td>슈헬스크럽</td>\n",
       "      <td>체력단련장업</td>\n",
       "      <td>1996.0</td>\n",
       "      <td>폐업</td>\n",
       "      <td>2016</td>\n",
       "      <td>서울</td>\n",
       "      <td>서울특별시 광진구 자양로45길 16  (구의동,(4층))</td>\n",
       "    </tr>\n",
       "    <tr>\n",
       "      <td>6</td>\n",
       "      <td>리얼무브지온</td>\n",
       "      <td>체력단련장업</td>\n",
       "      <td>2012.0</td>\n",
       "      <td>폐업</td>\n",
       "      <td>2016</td>\n",
       "      <td>인천</td>\n",
       "      <td>인천광역시 부평구 아트센터로44번길 3 (십정동)</td>\n",
       "    </tr>\n",
       "    <tr>\n",
       "      <td>7</td>\n",
       "      <td>명품당구클럽</td>\n",
       "      <td>당구장업</td>\n",
       "      <td>2013.0</td>\n",
       "      <td>폐업</td>\n",
       "      <td>2016</td>\n",
       "      <td>광주</td>\n",
       "      <td>광주광역시 광산구 남동길30번길 45-18, 2층 (도산동)</td>\n",
       "    </tr>\n",
       "    <tr>\n",
       "      <td>8</td>\n",
       "      <td>K-1 당구장</td>\n",
       "      <td>당구장업</td>\n",
       "      <td>2007.0</td>\n",
       "      <td>폐업</td>\n",
       "      <td>2016</td>\n",
       "      <td>경기</td>\n",
       "      <td>경기도 평택시 막곡길 8 (가재동)</td>\n",
       "    </tr>\n",
       "    <tr>\n",
       "      <td>9</td>\n",
       "      <td>쓸쿠당구장</td>\n",
       "      <td>당구장업</td>\n",
       "      <td>2001.0</td>\n",
       "      <td>폐업</td>\n",
       "      <td>2016</td>\n",
       "      <td>서울</td>\n",
       "      <td>서울특별시 구로구 디지털로32길 97-27  (구로동,9)</td>\n",
       "    </tr>\n",
       "  </tbody>\n",
       "</table>\n",
       "</div>"
      ],
      "text/plain": [
       "  Brand_name Open_Service  Build_Year Present_Status  Disclosed_year Area  \\\n",
       "0     월계수체육관        체육도장업      1997.0             폐업            2016   경기   \n",
       "1  힘찬태권도 체육관        체육도장업      2012.0             폐업            2016   경기   \n",
       "2     종합태권도장        체육도장업      1989.0             폐업            2016   충청   \n",
       "3   친절한 헬스클럽        체육도장업      2009.0             폐업            2016   충청   \n",
       "4     고한눈썰매장         썰매장업      1994.0             폐업            2016   강원   \n",
       "5      슈헬스크럽       체력단련장업      1996.0             폐업            2016   서울   \n",
       "6     리얼무브지온       체력단련장업      2012.0             폐업            2016   인천   \n",
       "7     명품당구클럽         당구장업      2013.0             폐업            2016   광주   \n",
       "8    K-1 당구장         당구장업      2007.0             폐업            2016   경기   \n",
       "9      쓸쿠당구장         당구장업      2001.0             폐업            2016   서울   \n",
       "\n",
       "                         Doro_Entire  \n",
       "0          경기도 안산시 상록구 감골로 141  (사동)  \n",
       "1               경기도 파주시 동패로 98 (동패동)  \n",
       "2             충청남도 청양군 청양읍 칠갑산로1길 22  \n",
       "3              충청남도 청양군 청양읍 칠갑산로 287  \n",
       "4              강원도 정선군 고한읍 소두문동길 106  \n",
       "5    서울특별시 광진구 자양로45길 16  (구의동,(4층))  \n",
       "6        인천광역시 부평구 아트센터로44번길 3 (십정동)  \n",
       "7  광주광역시 광산구 남동길30번길 45-18, 2층 (도산동)  \n",
       "8                경기도 평택시 막곡길 8 (가재동)  \n",
       "9   서울특별시 구로구 디지털로32길 97-27  (구로동,9)  "
      ]
     },
     "execution_count": 9,
     "metadata": {},
     "output_type": "execute_result"
    }
   ],
   "source": [
    "# 한 번 더 확인\n",
    "\n",
    "df.head(10)"
   ]
  },
  {
   "cell_type": "code",
   "execution_count": 10,
   "metadata": {},
   "outputs": [
    {
     "data": {
      "text/plain": [
       "<matplotlib.axes._subplots.AxesSubplot at 0x1cdb1b31848>"
      ]
     },
     "execution_count": 10,
     "metadata": {},
     "output_type": "execute_result"
    },
    {
     "data": {
      "image/png": "[encoded data removed]",
      "text/plain": [
       "<Figure size 432x288 with 1 Axes>"
      ]
     },
     "metadata": {
      "needs_background": "light"
     },
     "output_type": "display_data"
    }
   ],
   "source": [
    "#sns.regplot(x='Area',y='Disclosed_year',hue='Open_Service',size='size',data=df)\n",
    "\n",
    "sns.lineplot(x='Area',y='Disclosed_year',hue='Open_Service',data=df)"
   ]
  },
  {
   "cell_type": "code",
   "execution_count": 11,
   "metadata": {},
   "outputs": [],
   "source": [
    "# 폐업 년도를 기준으로 그룹핑하여 수를 세준다(COUNT)\n",
    "\n",
    "df22 = df.groupby(by=['Disclosed_year'], as_index=False).count()"
   ]
  },
  {
   "cell_type": "code",
   "execution_count": 12,
   "metadata": {},
   "outputs": [
    {
     "data": {
      "text/html": [
       "<div>\n",
       "<style scoped>\n",
       "    .dataframe tbody tr th:only-of-type {\n",
       "        vertical-align: middle;\n",
       "    }\n",
       "\n",
       "    .dataframe tbody tr th {\n",
       "        vertical-align: top;\n",
       "    }\n",
       "\n",
       "    .dataframe thead th {\n",
       "        text-align: right;\n",
       "    }\n",
       "</style>\n",
       "<table border=\"1\" class=\"dataframe\">\n",
       "  <thead>\n",
       "    <tr style=\"text-align: right;\">\n",
       "      <th></th>\n",
       "      <th>Disclosed_year</th>\n",
       "      <th>Brand_name</th>\n",
       "      <th>Open_Service</th>\n",
       "      <th>Build_Year</th>\n",
       "      <th>Present_Status</th>\n",
       "      <th>Area</th>\n",
       "      <th>Doro_Entire</th>\n",
       "    </tr>\n",
       "  </thead>\n",
       "  <tbody>\n",
       "    <tr>\n",
       "      <td>0</td>\n",
       "      <td>2016</td>\n",
       "      <td>1941</td>\n",
       "      <td>1941</td>\n",
       "      <td>1613</td>\n",
       "      <td>1941</td>\n",
       "      <td>1871</td>\n",
       "      <td>1871</td>\n",
       "    </tr>\n",
       "    <tr>\n",
       "      <td>1</td>\n",
       "      <td>2017</td>\n",
       "      <td>2377</td>\n",
       "      <td>2377</td>\n",
       "      <td>2021</td>\n",
       "      <td>2377</td>\n",
       "      <td>2286</td>\n",
       "      <td>2286</td>\n",
       "    </tr>\n",
       "    <tr>\n",
       "      <td>2</td>\n",
       "      <td>2018</td>\n",
       "      <td>3309</td>\n",
       "      <td>3309</td>\n",
       "      <td>2849</td>\n",
       "      <td>3309</td>\n",
       "      <td>3213</td>\n",
       "      <td>3213</td>\n",
       "    </tr>\n",
       "    <tr>\n",
       "      <td>3</td>\n",
       "      <td>2019</td>\n",
       "      <td>3329</td>\n",
       "      <td>3329</td>\n",
       "      <td>2929</td>\n",
       "      <td>3329</td>\n",
       "      <td>3239</td>\n",
       "      <td>3239</td>\n",
       "    </tr>\n",
       "    <tr>\n",
       "      <td>4</td>\n",
       "      <td>2020</td>\n",
       "      <td>3260</td>\n",
       "      <td>3260</td>\n",
       "      <td>2411</td>\n",
       "      <td>3260</td>\n",
       "      <td>3204</td>\n",
       "      <td>3204</td>\n",
       "    </tr>\n",
       "  </tbody>\n",
       "</table>\n",
       "</div>"
      ],
      "text/plain": [
       "   Disclosed_year  Brand_name  Open_Service  Build_Year  Present_Status  Area  \\\n",
       "0            2016        1941          1941        1613            1941  1871   \n",
       "1            2017        2377          2377        2021            2377  2286   \n",
       "2            2018        3309          3309        2849            3309  3213   \n",
       "3            2019        3329          3329        2929            3329  3239   \n",
       "4            2020        3260          3260        2411            3260  3204   \n",
       "\n",
       "   Doro_Entire  \n",
       "0         1871  \n",
       "1         2286  \n",
       "2         3213  \n",
       "3         3239  \n",
       "4         3204  "
      ]
     },
     "execution_count": 12,
     "metadata": {},
     "output_type": "execute_result"
    }
   ],
   "source": [
    "# 한 번 더 확인\n",
    "\n",
    "df22"
   ]
  },
  {
   "cell_type": "code",
   "execution_count": 13,
   "metadata": {},
   "outputs": [],
   "source": [
    "#필요없는 칼럼 삭제\n",
    "\n",
    "df33 = df22.drop(['Open_Service','Build_Year','Present_Status','Doro_Entire','Brand_name'],axis=1)"
   ]
  },
  {
   "cell_type": "code",
   "execution_count": 14,
   "metadata": {},
   "outputs": [
    {
     "data": {
      "text/html": [
       "<div>\n",
       "<style scoped>\n",
       "    .dataframe tbody tr th:only-of-type {\n",
       "        vertical-align: middle;\n",
       "    }\n",
       "\n",
       "    .dataframe tbody tr th {\n",
       "        vertical-align: top;\n",
       "    }\n",
       "\n",
       "    .dataframe thead th {\n",
       "        text-align: right;\n",
       "    }\n",
       "</style>\n",
       "<table border=\"1\" class=\"dataframe\">\n",
       "  <thead>\n",
       "    <tr style=\"text-align: right;\">\n",
       "      <th></th>\n",
       "      <th>Disclosed_year</th>\n",
       "      <th>Area</th>\n",
       "    </tr>\n",
       "  </thead>\n",
       "  <tbody>\n",
       "    <tr>\n",
       "      <td>0</td>\n",
       "      <td>2016</td>\n",
       "      <td>1871</td>\n",
       "    </tr>\n",
       "    <tr>\n",
       "      <td>1</td>\n",
       "      <td>2017</td>\n",
       "      <td>2286</td>\n",
       "    </tr>\n",
       "    <tr>\n",
       "      <td>2</td>\n",
       "      <td>2018</td>\n",
       "      <td>3213</td>\n",
       "    </tr>\n",
       "    <tr>\n",
       "      <td>3</td>\n",
       "      <td>2019</td>\n",
       "      <td>3239</td>\n",
       "    </tr>\n",
       "    <tr>\n",
       "      <td>4</td>\n",
       "      <td>2020</td>\n",
       "      <td>3204</td>\n",
       "    </tr>\n",
       "  </tbody>\n",
       "</table>\n",
       "</div>"
      ],
      "text/plain": [
       "   Disclosed_year  Area\n",
       "0            2016  1871\n",
       "1            2017  2286\n",
       "2            2018  3213\n",
       "3            2019  3239\n",
       "4            2020  3204"
      ]
     },
     "execution_count": 14,
     "metadata": {},
     "output_type": "execute_result"
    }
   ],
   "source": [
    "# 확인\n",
    "\n",
    "df33"
   ]
  },
  {
   "cell_type": "code",
   "execution_count": 15,
   "metadata": {
    "scrolled": true
   },
   "outputs": [
    {
     "data": {
      "image/png": "[encoded data removed]",
      "text/plain": [
       "<Figure size 432x288 with 1 Axes>"
      ]
     },
     "metadata": {
      "needs_background": "light"
     },
     "output_type": "display_data"
    }
   ],
   "source": [
    "# 2016년~2020년 폐업 갯수 막대그래프 시각화\n",
    "\n",
    "plt.bar(data=df33,\n",
    "        x='Disclosed_year',\n",
    "        height='Area',\n",
    "       )\n",
    "\n",
    "plt.show()"
   ]
  },
  {
   "cell_type": "code",
   "execution_count": 16,
   "metadata": {},
   "outputs": [],
   "source": [
    "# 이번에는 폐업 지역을 기준으로 그룹핑\n",
    "\n",
    "df44 = df.groupby(by=['Area'], as_index=False).count()"
   ]
  },
  {
   "cell_type": "code",
   "execution_count": 17,
   "metadata": {},
   "outputs": [],
   "source": [
    "# 필요없는 칼럼 삭제\n",
    "\n",
    "df45 = df44.drop(['Open_Service','Build_Year','Present_Status','Doro_Entire','Brand_name'],axis=1)"
   ]
  },
  {
   "cell_type": "code",
   "execution_count": 18,
   "metadata": {},
   "outputs": [
    {
     "data": {
      "text/html": [
       "<div>\n",
       "<style scoped>\n",
       "    .dataframe tbody tr th:only-of-type {\n",
       "        vertical-align: middle;\n",
       "    }\n",
       "\n",
       "    .dataframe tbody tr th {\n",
       "        vertical-align: top;\n",
       "    }\n",
       "\n",
       "    .dataframe thead th {\n",
       "        text-align: right;\n",
       "    }\n",
       "</style>\n",
       "<table border=\"1\" class=\"dataframe\">\n",
       "  <thead>\n",
       "    <tr style=\"text-align: right;\">\n",
       "      <th></th>\n",
       "      <th>Area</th>\n",
       "      <th>Disclosed_year</th>\n",
       "    </tr>\n",
       "  </thead>\n",
       "  <tbody>\n",
       "    <tr>\n",
       "      <td>0</td>\n",
       "      <td>강원</td>\n",
       "      <td>495</td>\n",
       "    </tr>\n",
       "    <tr>\n",
       "      <td>1</td>\n",
       "      <td>경기</td>\n",
       "      <td>3775</td>\n",
       "    </tr>\n",
       "    <tr>\n",
       "      <td>2</td>\n",
       "      <td>경상</td>\n",
       "      <td>1835</td>\n",
       "    </tr>\n",
       "    <tr>\n",
       "      <td>3</td>\n",
       "      <td>광주</td>\n",
       "      <td>413</td>\n",
       "    </tr>\n",
       "    <tr>\n",
       "      <td>4</td>\n",
       "      <td>대구</td>\n",
       "      <td>684</td>\n",
       "    </tr>\n",
       "    <tr>\n",
       "      <td>5</td>\n",
       "      <td>대전</td>\n",
       "      <td>368</td>\n",
       "    </tr>\n",
       "    <tr>\n",
       "      <td>6</td>\n",
       "      <td>부산</td>\n",
       "      <td>647</td>\n",
       "    </tr>\n",
       "    <tr>\n",
       "      <td>7</td>\n",
       "      <td>서울</td>\n",
       "      <td>2116</td>\n",
       "    </tr>\n",
       "    <tr>\n",
       "      <td>8</td>\n",
       "      <td>세종</td>\n",
       "      <td>53</td>\n",
       "    </tr>\n",
       "    <tr>\n",
       "      <td>9</td>\n",
       "      <td>울산</td>\n",
       "      <td>298</td>\n",
       "    </tr>\n",
       "    <tr>\n",
       "      <td>10</td>\n",
       "      <td>인천</td>\n",
       "      <td>934</td>\n",
       "    </tr>\n",
       "    <tr>\n",
       "      <td>11</td>\n",
       "      <td>전라</td>\n",
       "      <td>844</td>\n",
       "    </tr>\n",
       "    <tr>\n",
       "      <td>12</td>\n",
       "      <td>제주</td>\n",
       "      <td>306</td>\n",
       "    </tr>\n",
       "    <tr>\n",
       "      <td>13</td>\n",
       "      <td>충청</td>\n",
       "      <td>1045</td>\n",
       "    </tr>\n",
       "  </tbody>\n",
       "</table>\n",
       "</div>"
      ],
      "text/plain": [
       "   Area  Disclosed_year\n",
       "0    강원             495\n",
       "1    경기            3775\n",
       "2    경상            1835\n",
       "3    광주             413\n",
       "4    대구             684\n",
       "5    대전             368\n",
       "6    부산             647\n",
       "7    서울            2116\n",
       "8    세종              53\n",
       "9    울산             298\n",
       "10   인천             934\n",
       "11   전라             844\n",
       "12   제주             306\n",
       "13   충청            1045"
      ]
     },
     "execution_count": 18,
     "metadata": {},
     "output_type": "execute_result"
    }
   ],
   "source": [
    "# 체크\n",
    "\n",
    "df45"
   ]
  },
  {
   "cell_type": "code",
   "execution_count": 19,
   "metadata": {},
   "outputs": [
    {
     "name": "stdout",
     "output_type": "stream",
     "text": [
      "<class 'pandas.core.series.Series'>\n"
     ]
    }
   ],
   "source": [
    "# Area 칼럼의 연속형인지, 범주형인지 타입 알아보기\n",
    "\n",
    "print(type(df1['Area']))"
   ]
  },
  {
   "cell_type": "code",
   "execution_count": 20,
   "metadata": {},
   "outputs": [],
   "source": [
    "# df1에서 폐업년도, 폐업 지역 뽑아내기\n",
    "\n",
    "df46 = df1[['Disclosed_year','Area']]"
   ]
  },
  {
   "cell_type": "code",
   "execution_count": 21,
   "metadata": {
    "scrolled": true
   },
   "outputs": [
    {
     "data": {
      "text/html": [
       "<div>\n",
       "<style scoped>\n",
       "    .dataframe tbody tr th:only-of-type {\n",
       "        vertical-align: middle;\n",
       "    }\n",
       "\n",
       "    .dataframe tbody tr th {\n",
       "        vertical-align: top;\n",
       "    }\n",
       "\n",
       "    .dataframe thead th {\n",
       "        text-align: right;\n",
       "    }\n",
       "</style>\n",
       "<table border=\"1\" class=\"dataframe\">\n",
       "  <thead>\n",
       "    <tr style=\"text-align: right;\">\n",
       "      <th></th>\n",
       "      <th>Disclosed_year</th>\n",
       "      <th>Area</th>\n",
       "    </tr>\n",
       "  </thead>\n",
       "  <tbody>\n",
       "    <tr>\n",
       "      <td>0</td>\n",
       "      <td>2016</td>\n",
       "      <td>경기</td>\n",
       "    </tr>\n",
       "    <tr>\n",
       "      <td>1</td>\n",
       "      <td>2016</td>\n",
       "      <td>경기</td>\n",
       "    </tr>\n",
       "    <tr>\n",
       "      <td>2</td>\n",
       "      <td>2016</td>\n",
       "      <td>충청</td>\n",
       "    </tr>\n",
       "    <tr>\n",
       "      <td>3</td>\n",
       "      <td>2016</td>\n",
       "      <td>충청</td>\n",
       "    </tr>\n",
       "    <tr>\n",
       "      <td>4</td>\n",
       "      <td>2016</td>\n",
       "      <td>강원</td>\n",
       "    </tr>\n",
       "    <tr>\n",
       "      <td>...</td>\n",
       "      <td>...</td>\n",
       "      <td>...</td>\n",
       "    </tr>\n",
       "    <tr>\n",
       "      <td>14211</td>\n",
       "      <td>2020</td>\n",
       "      <td>경기</td>\n",
       "    </tr>\n",
       "    <tr>\n",
       "      <td>14212</td>\n",
       "      <td>2020</td>\n",
       "      <td>경기</td>\n",
       "    </tr>\n",
       "    <tr>\n",
       "      <td>14213</td>\n",
       "      <td>2020</td>\n",
       "      <td>경기</td>\n",
       "    </tr>\n",
       "    <tr>\n",
       "      <td>14214</td>\n",
       "      <td>2020</td>\n",
       "      <td>부산</td>\n",
       "    </tr>\n",
       "    <tr>\n",
       "      <td>14215</td>\n",
       "      <td>2020</td>\n",
       "      <td>울산</td>\n",
       "    </tr>\n",
       "  </tbody>\n",
       "</table>\n",
       "<p>14216 rows × 2 columns</p>\n",
       "</div>"
      ],
      "text/plain": [
       "       Disclosed_year Area\n",
       "0                2016   경기\n",
       "1                2016   경기\n",
       "2                2016   충청\n",
       "3                2016   충청\n",
       "4                2016   강원\n",
       "...               ...  ...\n",
       "14211            2020   경기\n",
       "14212            2020   경기\n",
       "14213            2020   경기\n",
       "14214            2020   부산\n",
       "14215            2020   울산\n",
       "\n",
       "[14216 rows x 2 columns]"
      ]
     },
     "execution_count": 21,
     "metadata": {},
     "output_type": "execute_result"
    }
   ],
   "source": [
    "# 체크\n",
    "\n",
    "df46"
   ]
  },
  {
   "cell_type": "code",
   "execution_count": 22,
   "metadata": {},
   "outputs": [],
   "source": [
    "df47 = df46.groupby(by=['Area'], as_index=False).count().sort_values(by='Disclosed_year',ascending=False)\n",
    "\n",
    "#다른 방법\n",
    "#df48 = pd.pivot_table(df47, index = ['Area'])"
   ]
  },
  {
   "cell_type": "code",
   "execution_count": 23,
   "metadata": {},
   "outputs": [
    {
     "data": {
      "text/html": [
       "<div>\n",
       "<style scoped>\n",
       "    .dataframe tbody tr th:only-of-type {\n",
       "        vertical-align: middle;\n",
       "    }\n",
       "\n",
       "    .dataframe tbody tr th {\n",
       "        vertical-align: top;\n",
       "    }\n",
       "\n",
       "    .dataframe thead th {\n",
       "        text-align: right;\n",
       "    }\n",
       "</style>\n",
       "<table border=\"1\" class=\"dataframe\">\n",
       "  <thead>\n",
       "    <tr style=\"text-align: right;\">\n",
       "      <th></th>\n",
       "      <th>Area</th>\n",
       "      <th>Disclosed_year</th>\n",
       "    </tr>\n",
       "  </thead>\n",
       "  <tbody>\n",
       "    <tr>\n",
       "      <td>1</td>\n",
       "      <td>경기</td>\n",
       "      <td>3775</td>\n",
       "    </tr>\n",
       "    <tr>\n",
       "      <td>7</td>\n",
       "      <td>서울</td>\n",
       "      <td>2116</td>\n",
       "    </tr>\n",
       "    <tr>\n",
       "      <td>2</td>\n",
       "      <td>경상</td>\n",
       "      <td>1835</td>\n",
       "    </tr>\n",
       "    <tr>\n",
       "      <td>13</td>\n",
       "      <td>충청</td>\n",
       "      <td>1045</td>\n",
       "    </tr>\n",
       "    <tr>\n",
       "      <td>10</td>\n",
       "      <td>인천</td>\n",
       "      <td>934</td>\n",
       "    </tr>\n",
       "    <tr>\n",
       "      <td>11</td>\n",
       "      <td>전라</td>\n",
       "      <td>844</td>\n",
       "    </tr>\n",
       "    <tr>\n",
       "      <td>4</td>\n",
       "      <td>대구</td>\n",
       "      <td>684</td>\n",
       "    </tr>\n",
       "    <tr>\n",
       "      <td>6</td>\n",
       "      <td>부산</td>\n",
       "      <td>647</td>\n",
       "    </tr>\n",
       "    <tr>\n",
       "      <td>0</td>\n",
       "      <td>강원</td>\n",
       "      <td>495</td>\n",
       "    </tr>\n",
       "    <tr>\n",
       "      <td>3</td>\n",
       "      <td>광주</td>\n",
       "      <td>413</td>\n",
       "    </tr>\n",
       "    <tr>\n",
       "      <td>5</td>\n",
       "      <td>대전</td>\n",
       "      <td>368</td>\n",
       "    </tr>\n",
       "    <tr>\n",
       "      <td>12</td>\n",
       "      <td>제주</td>\n",
       "      <td>306</td>\n",
       "    </tr>\n",
       "    <tr>\n",
       "      <td>9</td>\n",
       "      <td>울산</td>\n",
       "      <td>298</td>\n",
       "    </tr>\n",
       "    <tr>\n",
       "      <td>8</td>\n",
       "      <td>세종</td>\n",
       "      <td>53</td>\n",
       "    </tr>\n",
       "  </tbody>\n",
       "</table>\n",
       "</div>"
      ],
      "text/plain": [
       "   Area  Disclosed_year\n",
       "1    경기            3775\n",
       "7    서울            2116\n",
       "2    경상            1835\n",
       "13   충청            1045\n",
       "10   인천             934\n",
       "11   전라             844\n",
       "4    대구             684\n",
       "6    부산             647\n",
       "0    강원             495\n",
       "3    광주             413\n",
       "5    대전             368\n",
       "12   제주             306\n",
       "9    울산             298\n",
       "8    세종              53"
      ]
     },
     "execution_count": 23,
     "metadata": {},
     "output_type": "execute_result"
    }
   ],
   "source": [
    "df47"
   ]
  },
  {
   "cell_type": "code",
   "execution_count": 24,
   "metadata": {},
   "outputs": [
    {
     "data": {
      "image/png": "[encoded data removed]",
      "text/plain": [
       "<Figure size 432x288 with 1 Axes>"
      ]
     },
     "metadata": {
      "needs_background": "light"
     },
     "output_type": "display_data"
    }
   ],
   "source": [
    "# 2016년~2020년 폐업 갯수 막대그래프 시각화\n",
    "\n",
    "ax = sns.barplot(x='Disclosed_year', y='Area', data=df47)\n",
    "ax.set_xlabel('지역별 폐업 총합')\n",
    "\n",
    "plt.show()"
   ]
  },
  {
   "cell_type": "code",
   "execution_count": 25,
   "metadata": {},
   "outputs": [],
   "source": [
    "# Area 컬럼을 선택합니다.\n",
    "# 컬럼의 값과 조건을 비교합니다.\n",
    "# 그 결과를 새로운 변수에 할당합니다.\n",
    "\n",
    "busan = df1['Area'] == '경상'\n",
    "suwon = df1['Area'] == '경기'\n",
    "seoul = df1['Area'] == '서울'\n",
    "asan = df1['Area'] == '충청'\n",
    "gyengju = df1['Area'] == '전라'"
   ]
  },
  {
   "cell_type": "code",
   "execution_count": 26,
   "metadata": {},
   "outputs": [],
   "source": [
    "# 조건를 충족하는 데이터를 필터링하여 새로운 변수에 저장합니다.\n",
    "\n",
    "BUSAN = df[busan]\n",
    "SUWON = df[suwon]\n",
    "SEOUL = df[seoul]\n",
    "ASAN = df[asan]\n",
    "GYENGJU = df[gyengju]"
   ]
  },
  {
   "cell_type": "code",
   "execution_count": 27,
   "metadata": {},
   "outputs": [
    {
     "data": {
      "text/html": [
       "<div>\n",
       "<style scoped>\n",
       "    .dataframe tbody tr th:only-of-type {\n",
       "        vertical-align: middle;\n",
       "    }\n",
       "\n",
       "    .dataframe tbody tr th {\n",
       "        vertical-align: top;\n",
       "    }\n",
       "\n",
       "    .dataframe thead th {\n",
       "        text-align: right;\n",
       "    }\n",
       "</style>\n",
       "<table border=\"1\" class=\"dataframe\">\n",
       "  <thead>\n",
       "    <tr style=\"text-align: right;\">\n",
       "      <th></th>\n",
       "      <th>Brand_name</th>\n",
       "      <th>Open_Service</th>\n",
       "      <th>Build_Year</th>\n",
       "      <th>Present_Status</th>\n",
       "      <th>Disclosed_year</th>\n",
       "      <th>Area</th>\n",
       "      <th>Doro_Entire</th>\n",
       "    </tr>\n",
       "  </thead>\n",
       "  <tbody>\n",
       "    <tr>\n",
       "      <td>11</td>\n",
       "      <td>중앙헬스복싱</td>\n",
       "      <td>체육도장업</td>\n",
       "      <td>2014.0</td>\n",
       "      <td>폐업</td>\n",
       "      <td>2016</td>\n",
       "      <td>경상</td>\n",
       "      <td>경상북도 경주시 금성로 295, 7동 29호 (성건동)</td>\n",
       "    </tr>\n",
       "    <tr>\n",
       "      <td>14</td>\n",
       "      <td>중앙헬스</td>\n",
       "      <td>체력단련장업</td>\n",
       "      <td>2007.0</td>\n",
       "      <td>폐업</td>\n",
       "      <td>2016</td>\n",
       "      <td>경상</td>\n",
       "      <td>경상북도 경주시 금성로 295 (성건동)</td>\n",
       "    </tr>\n",
       "    <tr>\n",
       "      <td>16</td>\n",
       "      <td>중앙당구장</td>\n",
       "      <td>당구장업</td>\n",
       "      <td>2012.0</td>\n",
       "      <td>폐업</td>\n",
       "      <td>2016</td>\n",
       "      <td>경상</td>\n",
       "      <td>경상남도 창원시 마산회원구 봉암북3길 22 (봉암동)</td>\n",
       "    </tr>\n",
       "    <tr>\n",
       "      <td>25</td>\n",
       "      <td>상동당구클럽</td>\n",
       "      <td>당구장업</td>\n",
       "      <td>2012.0</td>\n",
       "      <td>폐업</td>\n",
       "      <td>2016</td>\n",
       "      <td>경상</td>\n",
       "      <td>경상남도 거창군 거창읍 공수들3길 5</td>\n",
       "    </tr>\n",
       "    <tr>\n",
       "      <td>29</td>\n",
       "      <td>리얼 골프아카데미</td>\n",
       "      <td>골프연습장업</td>\n",
       "      <td>NaN</td>\n",
       "      <td>폐업</td>\n",
       "      <td>2016</td>\n",
       "      <td>경상</td>\n",
       "      <td>경상남도 창원시 진해구 풍호로 5 (풍호동)</td>\n",
       "    </tr>\n",
       "    <tr>\n",
       "      <td>...</td>\n",
       "      <td>...</td>\n",
       "      <td>...</td>\n",
       "      <td>...</td>\n",
       "      <td>...</td>\n",
       "      <td>...</td>\n",
       "      <td>...</td>\n",
       "      <td>...</td>\n",
       "    </tr>\n",
       "    <tr>\n",
       "      <td>14175</td>\n",
       "      <td>죽빵 당구클럽</td>\n",
       "      <td>당구장업</td>\n",
       "      <td>2017.0</td>\n",
       "      <td>폐업</td>\n",
       "      <td>2020</td>\n",
       "      <td>경상</td>\n",
       "      <td>경상남도 진주시 진주대로 857, 지하1층 (주약동)</td>\n",
       "    </tr>\n",
       "    <tr>\n",
       "      <td>14186</td>\n",
       "      <td>우정태권도장</td>\n",
       "      <td>체육도장업</td>\n",
       "      <td>2017.0</td>\n",
       "      <td>폐업</td>\n",
       "      <td>2020</td>\n",
       "      <td>경상</td>\n",
       "      <td>경상남도 양산시 물금읍 물금1길 20, 4층 401,402호 (우정타워2)</td>\n",
       "    </tr>\n",
       "    <tr>\n",
       "      <td>14193</td>\n",
       "      <td>현대당구장</td>\n",
       "      <td>당구장업</td>\n",
       "      <td>2019.0</td>\n",
       "      <td>폐업</td>\n",
       "      <td>2020</td>\n",
       "      <td>경상</td>\n",
       "      <td>경상남도 창원시 진해구 충장로657번길 20, 904호 (장천동)</td>\n",
       "    </tr>\n",
       "    <tr>\n",
       "      <td>14197</td>\n",
       "      <td>청운태권도장</td>\n",
       "      <td>체육도장업</td>\n",
       "      <td>2017.0</td>\n",
       "      <td>폐업</td>\n",
       "      <td>2020</td>\n",
       "      <td>경상</td>\n",
       "      <td>경상남도 창원시 성산구 원이대로883번길 15-24, 505호일부, 508호 (가음...</td>\n",
       "    </tr>\n",
       "    <tr>\n",
       "      <td>14199</td>\n",
       "      <td>몬스터짐</td>\n",
       "      <td>체력단련장업</td>\n",
       "      <td>2003.0</td>\n",
       "      <td>폐업</td>\n",
       "      <td>2020</td>\n",
       "      <td>경상</td>\n",
       "      <td>경상북도 상주시 상산로 156 (신봉동)</td>\n",
       "    </tr>\n",
       "  </tbody>\n",
       "</table>\n",
       "<p>1835 rows × 7 columns</p>\n",
       "</div>"
      ],
      "text/plain": [
       "      Brand_name Open_Service  Build_Year Present_Status  Disclosed_year Area  \\\n",
       "11        중앙헬스복싱        체육도장업      2014.0             폐업            2016   경상   \n",
       "14          중앙헬스       체력단련장업      2007.0             폐업            2016   경상   \n",
       "16         중앙당구장         당구장업      2012.0             폐업            2016   경상   \n",
       "25        상동당구클럽         당구장업      2012.0             폐업            2016   경상   \n",
       "29     리얼 골프아카데미       골프연습장업         NaN             폐업            2016   경상   \n",
       "...          ...          ...         ...            ...             ...  ...   \n",
       "14175    죽빵 당구클럽         당구장업      2017.0             폐업            2020   경상   \n",
       "14186     우정태권도장        체육도장업      2017.0             폐업            2020   경상   \n",
       "14193      현대당구장         당구장업      2019.0             폐업            2020   경상   \n",
       "14197     청운태권도장        체육도장업      2017.0             폐업            2020   경상   \n",
       "14199       몬스터짐       체력단련장업      2003.0             폐업            2020   경상   \n",
       "\n",
       "                                             Doro_Entire  \n",
       "11                        경상북도 경주시 금성로 295, 7동 29호 (성건동)  \n",
       "14                                경상북도 경주시 금성로 295 (성건동)  \n",
       "16                         경상남도 창원시 마산회원구 봉암북3길 22 (봉암동)  \n",
       "25                                  경상남도 거창군 거창읍 공수들3길 5  \n",
       "29                              경상남도 창원시 진해구 풍호로 5 (풍호동)  \n",
       "...                                                  ...  \n",
       "14175                      경상남도 진주시 진주대로 857, 지하1층 (주약동)  \n",
       "14186          경상남도 양산시 물금읍 물금1길 20, 4층 401,402호 (우정타워2)  \n",
       "14193               경상남도 창원시 진해구 충장로657번길 20, 904호 (장천동)  \n",
       "14197  경상남도 창원시 성산구 원이대로883번길 15-24, 505호일부, 508호 (가음...  \n",
       "14199                             경상북도 상주시 상산로 156 (신봉동)  \n",
       "\n",
       "[1835 rows x 7 columns]"
      ]
     },
     "execution_count": 27,
     "metadata": {},
     "output_type": "execute_result"
    }
   ],
   "source": [
    "# 결과를 출력합니다.\n",
    "BUSAN"
   ]
  },
  {
   "cell_type": "code",
   "execution_count": 28,
   "metadata": {},
   "outputs": [],
   "source": [
    "BUSAN1 = BUSAN.groupby(by=['Disclosed_year'], as_index=False).count()\n",
    "SUWON1 = SUWON.groupby(by=['Disclosed_year'], as_index=False).count()\n",
    "SEOUL1 = SEOUL.groupby(by=['Disclosed_year'], as_index=False).count()\n",
    "ASAN1 = ASAN.groupby(by=['Disclosed_year'], as_index=False).count()\n",
    "GYENGJU1 = GYENGJU.groupby(by=['Disclosed_year'], as_index=False).count()"
   ]
  },
  {
   "cell_type": "code",
   "execution_count": 29,
   "metadata": {},
   "outputs": [
    {
     "name": "stdout",
     "output_type": "stream",
     "text": [
      "   Disclosed_year  Brand_name  Open_Service  Build_Year  Present_Status  Area  \\\n",
      "0            2016         204           204         161             204   204   \n",
      "1            2017         230           230         195             230   230   \n",
      "2            2018         360           360         314             360   360   \n",
      "3            2019         538           538         473             538   538   \n",
      "4            2020         503           503         367             503   503   \n",
      "\n",
      "   Doro_Entire  \n",
      "0          204  \n",
      "1          230  \n",
      "2          360  \n",
      "3          538  \n",
      "4          503  \n"
     ]
    }
   ],
   "source": [
    "print(BUSAN1)"
   ]
  },
  {
   "cell_type": "code",
   "execution_count": 30,
   "metadata": {},
   "outputs": [],
   "source": [
    "BUSAN2 = BUSAN1.drop(['Brand_name','Open_Service','Build_Year','Present_Status','Doro_Entire'],axis=1)\n",
    "SUWON2 = SUWON1.drop(['Brand_name','Open_Service','Build_Year','Present_Status','Doro_Entire'],axis=1)\n",
    "SEOUL2 = SEOUL1.drop(['Brand_name','Open_Service','Build_Year','Present_Status','Doro_Entire'],axis=1)\n",
    "ASAN2 = ASAN1.drop(['Brand_name','Open_Service','Build_Year','Present_Status','Doro_Entire'],axis=1)\n",
    "GYENGJU2 = GYENGJU1.drop(['Brand_name','Open_Service','Build_Year','Present_Status','Doro_Entire'],axis=1)\n"
   ]
  },
  {
   "cell_type": "code",
   "execution_count": 31,
   "metadata": {},
   "outputs": [],
   "source": [
    "BUSAN2.columns = ['Year','Gyeongsang']\n",
    "SUWON2.columns = ['Year','Gyeonggi']\n",
    "SEOUL2.columns = ['Year','Seoul']\n",
    "ASAN2.columns = ['Year','Chungcheong']\n",
    "GYENGJU2.columns = ['Year','Jeonla']\n"
   ]
  },
  {
   "cell_type": "code",
   "execution_count": 32,
   "metadata": {},
   "outputs": [
    {
     "data": {
      "text/html": [
       "<div>\n",
       "<style scoped>\n",
       "    .dataframe tbody tr th:only-of-type {\n",
       "        vertical-align: middle;\n",
       "    }\n",
       "\n",
       "    .dataframe tbody tr th {\n",
       "        vertical-align: top;\n",
       "    }\n",
       "\n",
       "    .dataframe thead th {\n",
       "        text-align: right;\n",
       "    }\n",
       "</style>\n",
       "<table border=\"1\" class=\"dataframe\">\n",
       "  <thead>\n",
       "    <tr style=\"text-align: right;\">\n",
       "      <th></th>\n",
       "      <th>Year</th>\n",
       "      <th>Gyeongsang</th>\n",
       "    </tr>\n",
       "  </thead>\n",
       "  <tbody>\n",
       "    <tr>\n",
       "      <td>0</td>\n",
       "      <td>2016</td>\n",
       "      <td>204</td>\n",
       "    </tr>\n",
       "    <tr>\n",
       "      <td>1</td>\n",
       "      <td>2017</td>\n",
       "      <td>230</td>\n",
       "    </tr>\n",
       "    <tr>\n",
       "      <td>2</td>\n",
       "      <td>2018</td>\n",
       "      <td>360</td>\n",
       "    </tr>\n",
       "    <tr>\n",
       "      <td>3</td>\n",
       "      <td>2019</td>\n",
       "      <td>538</td>\n",
       "    </tr>\n",
       "    <tr>\n",
       "      <td>4</td>\n",
       "      <td>2020</td>\n",
       "      <td>503</td>\n",
       "    </tr>\n",
       "  </tbody>\n",
       "</table>\n",
       "</div>"
      ],
      "text/plain": [
       "   Year  Gyeongsang\n",
       "0  2016         204\n",
       "1  2017         230\n",
       "2  2018         360\n",
       "3  2019         538\n",
       "4  2020         503"
      ]
     },
     "execution_count": 32,
     "metadata": {},
     "output_type": "execute_result"
    }
   ],
   "source": [
    "BUSAN2"
   ]
  },
  {
   "cell_type": "code",
   "execution_count": 33,
   "metadata": {},
   "outputs": [],
   "source": [
    "Gyeongsang= BUSAN2\n",
    "Gyeonggi= SUWON2\n",
    "Seoul= SEOUL2\n",
    "Chungcheong= ASAN2\n",
    "Jeonla= GYENGJU2"
   ]
  },
  {
   "cell_type": "code",
   "execution_count": 34,
   "metadata": {},
   "outputs": [
    {
     "name": "stdout",
     "output_type": "stream",
     "text": [
      "   Year  Gyeonggi\n",
      "0  2016       521\n",
      "1  2017       503\n",
      "2  2018       988\n",
      "3  2019       829\n",
      "4  2020       934\n"
     ]
    }
   ],
   "source": [
    "print(Gyeonggi)"
   ]
  },
  {
   "cell_type": "code",
   "execution_count": 35,
   "metadata": {},
   "outputs": [],
   "source": [
    "df22 = pd.merge(Gyeonggi,Seoul, how='left',on='Year')"
   ]
  },
  {
   "cell_type": "code",
   "execution_count": 36,
   "metadata": {},
   "outputs": [],
   "source": [
    "df33 = pd.merge(Gyeongsang,Chungcheong, how='left',on='Year')"
   ]
  },
  {
   "cell_type": "code",
   "execution_count": 37,
   "metadata": {},
   "outputs": [],
   "source": [
    "df44 = pd.merge(df22,df33,how='left',on='Year')"
   ]
  },
  {
   "cell_type": "code",
   "execution_count": 38,
   "metadata": {},
   "outputs": [],
   "source": [
    "df55 = pd.merge(df44,Jeonla, how='left',on='Year')"
   ]
  },
  {
   "cell_type": "code",
   "execution_count": 39,
   "metadata": {},
   "outputs": [
    {
     "data": {
      "text/html": [
       "<div>\n",
       "<style scoped>\n",
       "    .dataframe tbody tr th:only-of-type {\n",
       "        vertical-align: middle;\n",
       "    }\n",
       "\n",
       "    .dataframe tbody tr th {\n",
       "        vertical-align: top;\n",
       "    }\n",
       "\n",
       "    .dataframe thead th {\n",
       "        text-align: right;\n",
       "    }\n",
       "</style>\n",
       "<table border=\"1\" class=\"dataframe\">\n",
       "  <thead>\n",
       "    <tr style=\"text-align: right;\">\n",
       "      <th></th>\n",
       "      <th>Year</th>\n",
       "      <th>Gyeonggi</th>\n",
       "      <th>Seoul</th>\n",
       "      <th>Gyeongsang</th>\n",
       "      <th>Chungcheong</th>\n",
       "      <th>Jeonla</th>\n",
       "    </tr>\n",
       "  </thead>\n",
       "  <tbody>\n",
       "    <tr>\n",
       "      <td>0</td>\n",
       "      <td>2016</td>\n",
       "      <td>521</td>\n",
       "      <td>297</td>\n",
       "      <td>204</td>\n",
       "      <td>124</td>\n",
       "      <td>138</td>\n",
       "    </tr>\n",
       "    <tr>\n",
       "      <td>1</td>\n",
       "      <td>2017</td>\n",
       "      <td>503</td>\n",
       "      <td>408</td>\n",
       "      <td>230</td>\n",
       "      <td>164</td>\n",
       "      <td>114</td>\n",
       "    </tr>\n",
       "    <tr>\n",
       "      <td>2</td>\n",
       "      <td>2018</td>\n",
       "      <td>988</td>\n",
       "      <td>453</td>\n",
       "      <td>360</td>\n",
       "      <td>297</td>\n",
       "      <td>178</td>\n",
       "    </tr>\n",
       "    <tr>\n",
       "      <td>3</td>\n",
       "      <td>2019</td>\n",
       "      <td>829</td>\n",
       "      <td>451</td>\n",
       "      <td>538</td>\n",
       "      <td>235</td>\n",
       "      <td>245</td>\n",
       "    </tr>\n",
       "    <tr>\n",
       "      <td>4</td>\n",
       "      <td>2020</td>\n",
       "      <td>934</td>\n",
       "      <td>507</td>\n",
       "      <td>503</td>\n",
       "      <td>225</td>\n",
       "      <td>169</td>\n",
       "    </tr>\n",
       "  </tbody>\n",
       "</table>\n",
       "</div>"
      ],
      "text/plain": [
       "   Year  Gyeonggi  Seoul  Gyeongsang  Chungcheong  Jeonla\n",
       "0  2016       521    297         204          124     138\n",
       "1  2017       503    408         230          164     114\n",
       "2  2018       988    453         360          297     178\n",
       "3  2019       829    451         538          235     245\n",
       "4  2020       934    507         503          225     169"
      ]
     },
     "execution_count": 39,
     "metadata": {},
     "output_type": "execute_result"
    }
   ],
   "source": [
    "df55"
   ]
  },
  {
   "cell_type": "code",
   "execution_count": 40,
   "metadata": {},
   "outputs": [
    {
     "data": {
      "text/plain": [
       "<BarContainer object of 5 artists>"
      ]
     },
     "execution_count": 40,
     "metadata": {},
     "output_type": "execute_result"
    },
    {
     "data": {
      "image/png": "[encoded data removed]",
      "text/plain": [
       "<Figure size 432x288 with 1 Axes>"
      ]
     },
     "metadata": {
      "needs_background": "light"
     },
     "output_type": "display_data"
    }
   ],
   "source": [
    "plt.bar(data=df55,\n",
    "       x='Year',\n",
    "       height='Seoul')"
   ]
  },
  {
   "cell_type": "code",
   "execution_count": 41,
   "metadata": {
    "scrolled": true
   },
   "outputs": [
    {
     "data": {
      "text/plain": [
       "<BarContainer object of 5 artists>"
      ]
     },
     "execution_count": 41,
     "metadata": {},
     "output_type": "execute_result"
    },
    {
     "data": {
      "image/png": "[encoded data removed]",
      "text/plain": [
       "<Figure size 432x288 with 1 Axes>"
      ]
     },
     "metadata": {
      "needs_background": "light"
     },
     "output_type": "display_data"
    }
   ],
   "source": [
    "plt.bar(data=df55,\n",
    "       x='Year',\n",
    "       height='Gyeonggi')"
   ]
  },
  {
   "cell_type": "code",
   "execution_count": 42,
   "metadata": {},
   "outputs": [
    {
     "data": {
      "text/plain": [
       "<BarContainer object of 5 artists>"
      ]
     },
     "execution_count": 42,
     "metadata": {},
     "output_type": "execute_result"
    },
    {
     "data": {
      "image/png": "[encoded data removed]",
      "text/plain": [
       "<Figure size 432x288 with 1 Axes>"
      ]
     },
     "metadata": {
      "needs_background": "light"
     },
     "output_type": "display_data"
    }
   ],
   "source": [
    "plt.bar(data=df55,\n",
    "       x='Year',\n",
    "       height='Gyeongsang')"
   ]
  },
  {
   "cell_type": "code",
   "execution_count": 43,
   "metadata": {},
   "outputs": [
    {
     "data": {
      "text/plain": [
       "<BarContainer object of 5 artists>"
      ]
     },
     "execution_count": 43,
     "metadata": {},
     "output_type": "execute_result"
    },
    {
     "data": {
      "image/png": "[encoded data removed]",
      "text/plain": [
       "<Figure size 432x288 with 1 Axes>"
      ]
     },
     "metadata": {
      "needs_background": "light"
     },
     "output_type": "display_data"
    }
   ],
   "source": [
    "plt.bar(data=df55,\n",
    "       x='Year',\n",
    "       height='Chungcheong')"
   ]
  },
  {
   "cell_type": "code",
   "execution_count": 44,
   "metadata": {},
   "outputs": [
    {
     "data": {
      "text/plain": [
       "<BarContainer object of 5 artists>"
      ]
     },
     "execution_count": 44,
     "metadata": {},
     "output_type": "execute_result"
    },
    {
     "data": {
      "image/png": "[encoded data removed]",
      "text/plain": [
       "<Figure size 432x288 with 1 Axes>"
      ]
     },
     "metadata": {
      "needs_background": "light"
     },
     "output_type": "display_data"
    }
   ],
   "source": [
    "plt.bar(data=df55,\n",
    "       x='Year',\n",
    "       height='Jeonla'\n",
    "       )"
   ]
  },
  {
   "cell_type": "code",
   "execution_count": 45,
   "metadata": {},
   "outputs": [
    {
     "data": {
      "text/plain": [
       "<matplotlib.axes._subplots.AxesSubplot at 0x1cdb20ede48>"
      ]
     },
     "execution_count": 45,
     "metadata": {},
     "output_type": "execute_result"
    },
    {
     "data": {
      "image/png": "[encoded data removed]",
      "text/plain": [
       "<Figure size 432x288 with 1 Axes>"
      ]
     },
     "metadata": {
      "needs_background": "light"
     },
     "output_type": "display_data"
    }
   ],
   "source": [
    "df55.plot.bar()"
   ]
  },
  {
   "cell_type": "code",
   "execution_count": 46,
   "metadata": {},
   "outputs": [],
   "source": [
    "df56= df55.drop('Year',axis=1)"
   ]
  },
  {
   "cell_type": "code",
   "execution_count": 58,
   "metadata": {},
   "outputs": [
    {
     "data": {
      "text/plain": [
       "<matplotlib.axes._subplots.AxesSubplot at 0x1cdb374bbc8>"
      ]
     },
     "execution_count": 58,
     "metadata": {},
     "output_type": "execute_result"
    },
    {
     "data": {
      "image/png": "[encoded data removed]",
      "text/plain": [
       "<Figure size 432x288 with 1 Axes>"
      ]
     },
     "metadata": {
      "needs_background": "light"
     },
     "output_type": "display_data"
    }
   ],
   "source": [
    "df56.plot.bar()"
   ]
  },
  {
   "cell_type": "code",
   "execution_count": 56,
   "metadata": {},
   "outputs": [
    {
     "data": {
      "text/plain": [
       "<matplotlib.axes._subplots.AxesSubplot at 0x1cdb36a12c8>"
      ]
     },
     "execution_count": 56,
     "metadata": {},
     "output_type": "execute_result"
    },
    {
     "data": {
      "image/png": "[encoded data removed]",
      "text/plain": [
       "<Figure size 432x288 with 1 Axes>"
      ]
     },
     "metadata": {
      "needs_background": "light"
     },
     "output_type": "display_data"
    }
   ],
   "source": [
    "df56.plot.barh()"
   ]
  },
  {
   "cell_type": "code",
   "execution_count": 48,
   "metadata": {},
   "outputs": [
    {
     "data": {
      "text/html": [
       "<div>\n",
       "<style scoped>\n",
       "    .dataframe tbody tr th:only-of-type {\n",
       "        vertical-align: middle;\n",
       "    }\n",
       "\n",
       "    .dataframe tbody tr th {\n",
       "        vertical-align: top;\n",
       "    }\n",
       "\n",
       "    .dataframe thead th {\n",
       "        text-align: right;\n",
       "    }\n",
       "</style>\n",
       "<table border=\"1\" class=\"dataframe\">\n",
       "  <thead>\n",
       "    <tr style=\"text-align: right;\">\n",
       "      <th></th>\n",
       "      <th>Year</th>\n",
       "      <th>Gyeonggi</th>\n",
       "      <th>Seoul</th>\n",
       "      <th>Gyeongsang</th>\n",
       "      <th>Chungcheong</th>\n",
       "      <th>Jeonla</th>\n",
       "    </tr>\n",
       "  </thead>\n",
       "  <tbody>\n",
       "    <tr>\n",
       "      <td>0</td>\n",
       "      <td>2016</td>\n",
       "      <td>521</td>\n",
       "      <td>297</td>\n",
       "      <td>204</td>\n",
       "      <td>124</td>\n",
       "      <td>138</td>\n",
       "    </tr>\n",
       "    <tr>\n",
       "      <td>1</td>\n",
       "      <td>2017</td>\n",
       "      <td>503</td>\n",
       "      <td>408</td>\n",
       "      <td>230</td>\n",
       "      <td>164</td>\n",
       "      <td>114</td>\n",
       "    </tr>\n",
       "    <tr>\n",
       "      <td>2</td>\n",
       "      <td>2018</td>\n",
       "      <td>988</td>\n",
       "      <td>453</td>\n",
       "      <td>360</td>\n",
       "      <td>297</td>\n",
       "      <td>178</td>\n",
       "    </tr>\n",
       "    <tr>\n",
       "      <td>3</td>\n",
       "      <td>2019</td>\n",
       "      <td>829</td>\n",
       "      <td>451</td>\n",
       "      <td>538</td>\n",
       "      <td>235</td>\n",
       "      <td>245</td>\n",
       "    </tr>\n",
       "    <tr>\n",
       "      <td>4</td>\n",
       "      <td>2020</td>\n",
       "      <td>934</td>\n",
       "      <td>507</td>\n",
       "      <td>503</td>\n",
       "      <td>225</td>\n",
       "      <td>169</td>\n",
       "    </tr>\n",
       "  </tbody>\n",
       "</table>\n",
       "</div>"
      ],
      "text/plain": [
       "   Year  Gyeonggi  Seoul  Gyeongsang  Chungcheong  Jeonla\n",
       "0  2016       521    297         204          124     138\n",
       "1  2017       503    408         230          164     114\n",
       "2  2018       988    453         360          297     178\n",
       "3  2019       829    451         538          235     245\n",
       "4  2020       934    507         503          225     169"
      ]
     },
     "execution_count": 48,
     "metadata": {},
     "output_type": "execute_result"
    }
   ],
   "source": [
    "df55"
   ]
  },
  {
   "cell_type": "code",
   "execution_count": 50,
   "metadata": {},
   "outputs": [
    {
     "data": {
      "image/png": "[encoded data removed]",
      "text/plain": [
       "<Figure size 432x288 with 1 Axes>"
      ]
     },
     "metadata": {
      "needs_background": "light"
     },
     "output_type": "display_data"
    }
   ],
   "source": [
    "Gyeongsang = df55[['Gyeongsang']]\n",
    "Gyeonggi = df55[['Gyeonggi']]\n",
    "Seoul = df55[['Seoul']]\n",
    "Chungcheong = df55[['Chungcheong']]\n",
    "Jeonla = df55[['Jeonla']]\n",
    "Year= ['2016','2017','2018','2019','2020']\n",
    "\n",
    "plt.plot(Year, Gyeongsang,label='경상도')\n",
    "plt.plot(Year, Gyeonggi,label='경기도')\n",
    "plt.plot(Year, Seoul,label='서울특별시')\n",
    "plt.plot(Year, Chungcheong,label='충청도')\n",
    "plt.plot(Year, Jeonla,label='전라도')\n",
    "plt.legend()\n",
    "plt.show()"
   ]
  },
  {
   "cell_type": "code",
   "execution_count": null,
   "metadata": {},
   "outputs": [],
   "source": [
    "# 지역마다 2016~2020년간 별로 폐업 갯수 보여주기(애니메이션 적용)\n",
    "\n",
    "#"
   ]
  }
 ],
 "metadata": {
  "kernelspec": {
   "display_name": "Python 3",
   "language": "python",
   "name": "python3"
  },
  "language_info": {
   "codemirror_mode": {
    "name": "ipython",
    "version": 3
   },
   "file_extension": ".py",
   "mimetype": "text/x-python",
   "name": "python",
   "nbconvert_exporter": "python",
   "pygments_lexer": "ipython3",
   "version": "3.7.4"
  }
 },
 "nbformat": 4,
 "nbformat_minor": 2
}
